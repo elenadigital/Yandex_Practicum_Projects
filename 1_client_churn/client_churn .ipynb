{
 "cells": [
  {
   "cell_type": "markdown",
   "metadata": {
    "toc": true
   },
   "source": [
    "<h1>Содержание<span class=\"tocSkip\"></span></h1>\n",
    "<div class=\"toc\"><ul class=\"toc-item\"><li><span><a href=\"#Подготовка-данных\" data-toc-modified-id=\"Подготовка-данных-1\"><span class=\"toc-item-num\">1&nbsp;&nbsp;</span>Подготовка данных</a></span><ul class=\"toc-item\"><li><span><a href=\"#Откройте-файл-с-данными-и-изучите-его.\" data-toc-modified-id=\"Откройте-файл-с-данными-и-изучите-его.-1.1\"><span class=\"toc-item-num\">1.1&nbsp;&nbsp;</span>Откройте файл с данными и изучите его.</a></span></li><li><span><a href=\"#Предобработка-данных\" data-toc-modified-id=\"Предобработка-данных-1.2\"><span class=\"toc-item-num\">1.2&nbsp;&nbsp;</span>Предобработка данных</a></span></li><li><span><a href=\"#Исследовательский-анализ-данных\" data-toc-modified-id=\"Исследовательский-анализ-данных-1.3\"><span class=\"toc-item-num\">1.3&nbsp;&nbsp;</span>Исследовательский анализ данных</a></span></li></ul></li><li><span><a href=\"#Исследование-задачи\" data-toc-modified-id=\"Исследование-задачи-2\"><span class=\"toc-item-num\">2&nbsp;&nbsp;</span>Исследование задачи</a></span><ul class=\"toc-item\"><li><span><a href=\"#Разделите-исходные-данные-на-обучающую,-валидационную-и-тестовую-выборки.\" data-toc-modified-id=\"Разделите-исходные-данные-на-обучающую,-валидационную-и-тестовую-выборки.-2.1\"><span class=\"toc-item-num\">2.1&nbsp;&nbsp;</span>Разделите исходные данные на обучающую, валидационную и тестовую выборки.</a></span></li><li><span><a href=\"#Исследуйте-модели\" data-toc-modified-id=\"Исследуйте-модели-2.2\"><span class=\"toc-item-num\">2.2&nbsp;&nbsp;</span>Исследуйте модели</a></span><ul class=\"toc-item\"><li><span><a href=\"#Модель:-Решающее-дерево\" data-toc-modified-id=\"Модель:-Решающее-дерево-2.2.1\"><span class=\"toc-item-num\">2.2.1&nbsp;&nbsp;</span>Модель: Решающее дерево</a></span></li><li><span><a href=\"#Модель:-Случайный-лес\" data-toc-modified-id=\"Модель:-Случайный-лес-2.2.2\"><span class=\"toc-item-num\">2.2.2&nbsp;&nbsp;</span>Модель: Случайный лес</a></span></li><li><span><a href=\"#Модель:-Логистическая-регрессия\" data-toc-modified-id=\"Модель:-Логистическая-регрессия-2.2.3\"><span class=\"toc-item-num\">2.2.3&nbsp;&nbsp;</span>Модель: Логистическая регрессия</a></span></li></ul></li></ul></li><li><span><a href=\"#Борьба-с-дисбалансом\" data-toc-modified-id=\"Борьба-с-дисбалансом-3\"><span class=\"toc-item-num\">3&nbsp;&nbsp;</span>Борьба с дисбалансом</a></span><ul class=\"toc-item\"><li><span><a href=\"#Обучение-моделей-с-выборками-upsampled\" data-toc-modified-id=\"Обучение-моделей-с-выборками-upsampled-3.1\"><span class=\"toc-item-num\">3.1&nbsp;&nbsp;</span>Обучение моделей с выборками upsampled</a></span><ul class=\"toc-item\"><li><span><a href=\"#Модель:-Решающее-дерево\" data-toc-modified-id=\"Модель:-Решающее-дерево-3.1.1\"><span class=\"toc-item-num\">3.1.1&nbsp;&nbsp;</span>Модель: Решающее дерево</a></span></li><li><span><a href=\"#Модель:-Случайный-лес\" data-toc-modified-id=\"Модель:-Случайный-лес-3.1.2\"><span class=\"toc-item-num\">3.1.2&nbsp;&nbsp;</span>Модель: Случайный лес</a></span></li><li><span><a href=\"#Модель:-Логистическая-регрессия\" data-toc-modified-id=\"Модель:-Логистическая-регрессия-3.1.3\"><span class=\"toc-item-num\">3.1.3&nbsp;&nbsp;</span>Модель: Логистическая регрессия</a></span></li></ul></li><li><span><a href=\"#Обучение-моделей-с-выборками-downsampled\" data-toc-modified-id=\"Обучение-моделей-с-выборками-downsampled-3.2\"><span class=\"toc-item-num\">3.2&nbsp;&nbsp;</span>Обучение моделей с выборками downsampled</a></span><ul class=\"toc-item\"><li><span><a href=\"#Модель:-Решающее-дерево\" data-toc-modified-id=\"Модель:-Решающее-дерево-3.2.1\"><span class=\"toc-item-num\">3.2.1&nbsp;&nbsp;</span>Модель: Решающее дерево</a></span></li><li><span><a href=\"#Модель:-Случайный-лес\" data-toc-modified-id=\"Модель:-Случайный-лес-3.2.2\"><span class=\"toc-item-num\">3.2.2&nbsp;&nbsp;</span>Модель: Случайный лес</a></span></li><li><span><a href=\"#Модель:-Логистическая-регрессия\" data-toc-modified-id=\"Модель:-Логистическая-регрессия-3.2.3\"><span class=\"toc-item-num\">3.2.3&nbsp;&nbsp;</span>Модель: Логистическая регрессия</a></span></li></ul></li></ul></li><li><span><a href=\"#Тестирование-модели\" data-toc-modified-id=\"Тестирование-модели-4\"><span class=\"toc-item-num\">4&nbsp;&nbsp;</span>Тестирование модели</a></span></li><li><span><a href=\"#Выводы\" data-toc-modified-id=\"Выводы-5\"><span class=\"toc-item-num\">5&nbsp;&nbsp;</span>Выводы</a></span></li><li><span><a href=\"#Чек-лист-готовности-проекта\" data-toc-modified-id=\"Чек-лист-готовности-проекта-6\"><span class=\"toc-item-num\">6&nbsp;&nbsp;</span>Чек-лист готовности проекта</a></span></li></ul></div>"
   ]
  },
  {
   "cell_type": "markdown",
   "metadata": {},
   "source": [
    "# Отток клиентов"
   ]
  },
  {
   "cell_type": "markdown",
   "metadata": {},
   "source": [
    "Из «Бета-Банка» стали уходить клиенты. Каждый месяц. Немного, но заметно. Банковские маркетологи посчитали: сохранять текущих клиентов дешевле, чем привлекать новых.\n",
    "\n",
    "Нужно спрогнозировать, уйдёт клиент из банка в ближайшее время или нет. Вам предоставлены исторические данные о поведении клиентов и расторжении договоров с банком. \n",
    "\n",
    "Постройте модель с предельно большим значением *F1*-меры. Чтобы сдать проект успешно, нужно довести метрику до 0.59. Проверьте *F1*-меру на тестовой выборке самостоятельно.\n",
    "\n",
    "Дополнительно измеряйте *AUC-ROC*, сравнивайте её значение с *F1*-мерой.\n",
    "\n",
    "Источник данных: [https://www.kaggle.com/barelydedicated/bank-customer-churn-modeling](https://www.kaggle.com/barelydedicated/bank-customer-churn-modeling)"
   ]
  },
  {
   "cell_type": "markdown",
   "metadata": {},
   "source": [
    "**План исследования:**\n",
    "\n",
    "* Загрузка датасета\n",
    "* Предобработка данных (проверка пропущенных значений, типов данных, явных дублей)\n",
    "* Исследовательский анализ данных (изучить основную информацию о данных, построить графики, проверить корреляцию данных)\n",
    "* Определить целевой признак и создать отдельные датасеты с целевым и прочими признаками для предсказаний для каждой выборки\n",
    "* Разделить исходные данные на 3 части: обучающую, валидационную и тестовую выборки\n",
    "* Определить, к какому виду исследования относится наше исследование: Классификация или Регрессия\n",
    "* Определить, какие модели обучения будем тестировать\n",
    "* Тест моделей на обучающей и валидационной выборках без учёта дисбаланса\n",
    "* Применить несколько способов борьбы с дисбалансом (upsample и downsample)\n",
    "* Тест моделей на обучающей и валидационной выборках c учётом дисбаланса\n",
    "* Определение лучшей модели и гиперпараметров (с лучшим показателем f1, не меньше 0.59)\n",
    "* Проверить качество лучшей модели на тестовой выборке\n",
    "* Исследовать метрику AUC-ROC"
   ]
  },
  {
   "cell_type": "markdown",
   "metadata": {},
   "source": [
    "## Подготовка данных"
   ]
  },
  {
   "cell_type": "markdown",
   "metadata": {},
   "source": [
    "### Откройте файл с данными и изучите его."
   ]
  },
  {
   "cell_type": "code",
   "execution_count": 47,
   "metadata": {},
   "outputs": [],
   "source": [
    "import pandas as pd\n",
    "import matplotlib.pyplot as plt\n",
    "from sklearn.metrics import (\n",
    "    f1_score,\n",
    "    roc_auc_score,\n",
    "    roc_curve\n",
    ")\n",
    "from sklearn.preprocessing import (\n",
    "    OneHotEncoder,\n",
    "    OrdinalEncoder,\n",
    "    StandardScaler\n",
    ")\n",
    "from sklearn.model_selection import train_test_split\n",
    "from sklearn.tree import DecisionTreeClassifier \n",
    "from sklearn.ensemble import RandomForestClassifier\n",
    "from sklearn.linear_model import LogisticRegression\n",
    "from sklearn.utils import shuffle"
   ]
  },
  {
   "cell_type": "code",
   "execution_count": 48,
   "metadata": {},
   "outputs": [],
   "source": [
    "try:\n",
    "    data = pd.read_csv('/datasets/Churn.csv')\n",
    "except:\n",
    "    data = pd.read_csv('https://code.s3.yandex.net/datasets/Churn.csv')"
   ]
  },
  {
   "cell_type": "code",
   "execution_count": 49,
   "metadata": {
    "scrolled": true
   },
   "outputs": [
    {
     "data": {
      "text/html": [
       "<div>\n",
       "<style scoped>\n",
       "    .dataframe tbody tr th:only-of-type {\n",
       "        vertical-align: middle;\n",
       "    }\n",
       "\n",
       "    .dataframe tbody tr th {\n",
       "        vertical-align: top;\n",
       "    }\n",
       "\n",
       "    .dataframe thead th {\n",
       "        text-align: right;\n",
       "    }\n",
       "</style>\n",
       "<table border=\"1\" class=\"dataframe\">\n",
       "  <thead>\n",
       "    <tr style=\"text-align: right;\">\n",
       "      <th></th>\n",
       "      <th>RowNumber</th>\n",
       "      <th>CustomerId</th>\n",
       "      <th>Surname</th>\n",
       "      <th>CreditScore</th>\n",
       "      <th>Geography</th>\n",
       "      <th>Gender</th>\n",
       "      <th>Age</th>\n",
       "      <th>Tenure</th>\n",
       "      <th>Balance</th>\n",
       "      <th>NumOfProducts</th>\n",
       "      <th>HasCrCard</th>\n",
       "      <th>IsActiveMember</th>\n",
       "      <th>EstimatedSalary</th>\n",
       "      <th>Exited</th>\n",
       "    </tr>\n",
       "  </thead>\n",
       "  <tbody>\n",
       "    <tr>\n",
       "      <th>0</th>\n",
       "      <td>1</td>\n",
       "      <td>15634602</td>\n",
       "      <td>Hargrave</td>\n",
       "      <td>619</td>\n",
       "      <td>France</td>\n",
       "      <td>Female</td>\n",
       "      <td>42</td>\n",
       "      <td>2.0</td>\n",
       "      <td>0.00</td>\n",
       "      <td>1</td>\n",
       "      <td>1</td>\n",
       "      <td>1</td>\n",
       "      <td>101348.88</td>\n",
       "      <td>1</td>\n",
       "    </tr>\n",
       "    <tr>\n",
       "      <th>1</th>\n",
       "      <td>2</td>\n",
       "      <td>15647311</td>\n",
       "      <td>Hill</td>\n",
       "      <td>608</td>\n",
       "      <td>Spain</td>\n",
       "      <td>Female</td>\n",
       "      <td>41</td>\n",
       "      <td>1.0</td>\n",
       "      <td>83807.86</td>\n",
       "      <td>1</td>\n",
       "      <td>0</td>\n",
       "      <td>1</td>\n",
       "      <td>112542.58</td>\n",
       "      <td>0</td>\n",
       "    </tr>\n",
       "    <tr>\n",
       "      <th>2</th>\n",
       "      <td>3</td>\n",
       "      <td>15619304</td>\n",
       "      <td>Onio</td>\n",
       "      <td>502</td>\n",
       "      <td>France</td>\n",
       "      <td>Female</td>\n",
       "      <td>42</td>\n",
       "      <td>8.0</td>\n",
       "      <td>159660.80</td>\n",
       "      <td>3</td>\n",
       "      <td>1</td>\n",
       "      <td>0</td>\n",
       "      <td>113931.57</td>\n",
       "      <td>1</td>\n",
       "    </tr>\n",
       "    <tr>\n",
       "      <th>3</th>\n",
       "      <td>4</td>\n",
       "      <td>15701354</td>\n",
       "      <td>Boni</td>\n",
       "      <td>699</td>\n",
       "      <td>France</td>\n",
       "      <td>Female</td>\n",
       "      <td>39</td>\n",
       "      <td>1.0</td>\n",
       "      <td>0.00</td>\n",
       "      <td>2</td>\n",
       "      <td>0</td>\n",
       "      <td>0</td>\n",
       "      <td>93826.63</td>\n",
       "      <td>0</td>\n",
       "    </tr>\n",
       "    <tr>\n",
       "      <th>4</th>\n",
       "      <td>5</td>\n",
       "      <td>15737888</td>\n",
       "      <td>Mitchell</td>\n",
       "      <td>850</td>\n",
       "      <td>Spain</td>\n",
       "      <td>Female</td>\n",
       "      <td>43</td>\n",
       "      <td>2.0</td>\n",
       "      <td>125510.82</td>\n",
       "      <td>1</td>\n",
       "      <td>1</td>\n",
       "      <td>1</td>\n",
       "      <td>79084.10</td>\n",
       "      <td>0</td>\n",
       "    </tr>\n",
       "  </tbody>\n",
       "</table>\n",
       "</div>"
      ],
      "text/plain": [
       "   RowNumber  CustomerId   Surname  CreditScore Geography  Gender  Age  \\\n",
       "0          1    15634602  Hargrave          619    France  Female   42   \n",
       "1          2    15647311      Hill          608     Spain  Female   41   \n",
       "2          3    15619304      Onio          502    France  Female   42   \n",
       "3          4    15701354      Boni          699    France  Female   39   \n",
       "4          5    15737888  Mitchell          850     Spain  Female   43   \n",
       "\n",
       "   Tenure    Balance  NumOfProducts  HasCrCard  IsActiveMember  \\\n",
       "0     2.0       0.00              1          1               1   \n",
       "1     1.0   83807.86              1          0               1   \n",
       "2     8.0  159660.80              3          1               0   \n",
       "3     1.0       0.00              2          0               0   \n",
       "4     2.0  125510.82              1          1               1   \n",
       "\n",
       "   EstimatedSalary  Exited  \n",
       "0        101348.88       1  \n",
       "1        112542.58       0  \n",
       "2        113931.57       1  \n",
       "3         93826.63       0  \n",
       "4         79084.10       0  "
      ]
     },
     "execution_count": 49,
     "metadata": {},
     "output_type": "execute_result"
    }
   ],
   "source": [
    "data.head()"
   ]
  },
  {
   "cell_type": "markdown",
   "metadata": {},
   "source": [
    "### Предобработка данных"
   ]
  },
  {
   "cell_type": "code",
   "execution_count": 50,
   "metadata": {},
   "outputs": [
    {
     "name": "stdout",
     "output_type": "stream",
     "text": [
      "<class 'pandas.core.frame.DataFrame'>\n",
      "RangeIndex: 10000 entries, 0 to 9999\n",
      "Data columns (total 14 columns):\n",
      " #   Column           Non-Null Count  Dtype  \n",
      "---  ------           --------------  -----  \n",
      " 0   RowNumber        10000 non-null  int64  \n",
      " 1   CustomerId       10000 non-null  int64  \n",
      " 2   Surname          10000 non-null  object \n",
      " 3   CreditScore      10000 non-null  int64  \n",
      " 4   Geography        10000 non-null  object \n",
      " 5   Gender           10000 non-null  object \n",
      " 6   Age              10000 non-null  int64  \n",
      " 7   Tenure           9091 non-null   float64\n",
      " 8   Balance          10000 non-null  float64\n",
      " 9   NumOfProducts    10000 non-null  int64  \n",
      " 10  HasCrCard        10000 non-null  int64  \n",
      " 11  IsActiveMember   10000 non-null  int64  \n",
      " 12  EstimatedSalary  10000 non-null  float64\n",
      " 13  Exited           10000 non-null  int64  \n",
      "dtypes: float64(3), int64(8), object(3)\n",
      "memory usage: 1.1+ MB\n"
     ]
    }
   ],
   "source": [
    "data.info()"
   ]
  },
  {
   "cell_type": "markdown",
   "metadata": {},
   "source": [
    "**Описание данных:**  \n",
    "\n",
    "**Количественные:**    \n",
    "\n",
    "RowNumber — индекс строки в данных  \n",
    "CustomerId — уникальный идентификатор клиента  \n",
    "CreditScore — кредитный рейтинг  \n",
    "Age — возраст  \n",
    "Tenure — сколько лет человек является клиентом банка  \n",
    "Balance — баланс на счёте  \n",
    "NumOfProducts — количество продуктов банка, используемых клиентом  \n",
    "HasCrCard — наличие кредитной карты  \n",
    "IsActiveMember — активность клиента   \n",
    "EstimatedSalary — предполагаемая зарплата  \n",
    "Exited — факт ухода клиента  \n",
    "\n",
    "**Категориальные:**  \n",
    "\n",
    "Surname — фамилия    \n",
    "Geography — страна проживания  \n",
    "Gender — пол    "
   ]
  },
  {
   "cell_type": "code",
   "execution_count": 51,
   "metadata": {},
   "outputs": [
    {
     "data": {
      "text/plain": [
       "RowNumber            0\n",
       "CustomerId           0\n",
       "Surname              0\n",
       "CreditScore          0\n",
       "Geography            0\n",
       "Gender               0\n",
       "Age                  0\n",
       "Tenure             909\n",
       "Balance              0\n",
       "NumOfProducts        0\n",
       "HasCrCard            0\n",
       "IsActiveMember       0\n",
       "EstimatedSalary      0\n",
       "Exited               0\n",
       "dtype: int64"
      ]
     },
     "execution_count": 51,
     "metadata": {},
     "output_type": "execute_result"
    }
   ],
   "source": [
    "# Выведем количество пропущенных значений для каждого столбца\n",
    "data.isna().sum()"
   ]
  },
  {
   "cell_type": "markdown",
   "metadata": {},
   "source": [
    "В столбце 'Tenure' (сколько лет человек является клиентом банка) 909 пропущенных значений, это 9% всех данных. \n",
    "\n",
    "Причиной пропусков может быть технологический фактор. В таком случае ошибки могли возникнуть при копировании, считывании, смене формата.  \n",
    "\n",
    "Отсутствие данных может быть связано также с человеческим фактором. Операторы банка могли забыть внести данные о клиентах в базу, или же у них не было нужной информации, не знали что именно нужно указать в поле 'Tenure'. Возможно, данные не указаны для совсем еще новых клиентов, которые являются клиентами банка меньше года.  \n",
    "\n",
    "В данном случае не будем пытаться заменять пропуски медианным/средним значением или 0, просто удалим их.  "
   ]
  },
  {
   "cell_type": "code",
   "execution_count": 52,
   "metadata": {},
   "outputs": [],
   "source": [
    "# Удалим пустые значения в 'Tenure'\n",
    "data = data.dropna(subset=['Tenure'])"
   ]
  },
  {
   "cell_type": "code",
   "execution_count": 53,
   "metadata": {},
   "outputs": [
    {
     "name": "stdout",
     "output_type": "stream",
     "text": [
      "<class 'pandas.core.frame.DataFrame'>\n",
      "Int64Index: 9091 entries, 0 to 9998\n",
      "Data columns (total 14 columns):\n",
      " #   Column           Non-Null Count  Dtype  \n",
      "---  ------           --------------  -----  \n",
      " 0   RowNumber        9091 non-null   int64  \n",
      " 1   CustomerId       9091 non-null   int64  \n",
      " 2   Surname          9091 non-null   object \n",
      " 3   CreditScore      9091 non-null   int64  \n",
      " 4   Geography        9091 non-null   object \n",
      " 5   Gender           9091 non-null   object \n",
      " 6   Age              9091 non-null   int64  \n",
      " 7   Tenure           9091 non-null   float64\n",
      " 8   Balance          9091 non-null   float64\n",
      " 9   NumOfProducts    9091 non-null   int64  \n",
      " 10  HasCrCard        9091 non-null   int64  \n",
      " 11  IsActiveMember   9091 non-null   int64  \n",
      " 12  EstimatedSalary  9091 non-null   float64\n",
      " 13  Exited           9091 non-null   int64  \n",
      "dtypes: float64(3), int64(8), object(3)\n",
      "memory usage: 1.0+ MB\n"
     ]
    }
   ],
   "source": [
    "data.info()"
   ]
  },
  {
   "cell_type": "markdown",
   "metadata": {},
   "source": [
    "После удаления пропущенных данных у нас осталось одинаково количество значений во всех столбцах 9091."
   ]
  },
  {
   "cell_type": "markdown",
   "metadata": {},
   "source": [
    "Также обратим внимание на тип данных во всех столбцах. Все типы данных соответствуют содержащимся в них значениям. Разве что можем изменить тип для 'Tenure' с float на int, так как в нем хранятся данне о количестве лет."
   ]
  },
  {
   "cell_type": "code",
   "execution_count": 54,
   "metadata": {},
   "outputs": [],
   "source": [
    "data['Tenure'] = data['Tenure'].astype('int')"
   ]
  },
  {
   "cell_type": "code",
   "execution_count": 55,
   "metadata": {},
   "outputs": [
    {
     "data": {
      "text/plain": [
       "dtype('int64')"
      ]
     },
     "execution_count": 55,
     "metadata": {},
     "output_type": "execute_result"
    }
   ],
   "source": [
    "# Проверим внесенные изменения\n",
    "data['Tenure'].dtypes"
   ]
  },
  {
   "cell_type": "markdown",
   "metadata": {},
   "source": [
    "Проверим датасет data на дубликаты"
   ]
  },
  {
   "cell_type": "code",
   "execution_count": 56,
   "metadata": {},
   "outputs": [
    {
     "data": {
      "text/plain": [
       "0"
      ]
     },
     "execution_count": 56,
     "metadata": {},
     "output_type": "execute_result"
    }
   ],
   "source": [
    "# Явных дублей не обнаружено\n",
    "data.duplicated().sum()"
   ]
  },
  {
   "cell_type": "markdown",
   "metadata": {},
   "source": [
    "Дополнительно проверим дубликаты в отдельном столбце 'CustomerId'. Значения в прочих столбцах (например, Surname или Geography) могут повторяться, однако важно, чтобы уникальные идентификаторы клиентов были уникальными."
   ]
  },
  {
   "cell_type": "code",
   "execution_count": 57,
   "metadata": {},
   "outputs": [
    {
     "data": {
      "text/plain": [
       "9091"
      ]
     },
     "execution_count": 57,
     "metadata": {},
     "output_type": "execute_result"
    }
   ],
   "source": [
    "# Дублей не обнаружено\n",
    "data['CustomerId'].nunique()"
   ]
  },
  {
   "cell_type": "markdown",
   "metadata": {},
   "source": [
    "### Исследовательский анализ данных"
   ]
  },
  {
   "cell_type": "code",
   "execution_count": 58,
   "metadata": {},
   "outputs": [
    {
     "data": {
      "image/png": "[encoded data removed]",
      "text/plain": [
       "<Figure size 1080x1440 with 12 Axes>"
      ]
     },
     "metadata": {
      "needs_background": "light"
     },
     "output_type": "display_data"
    }
   ],
   "source": [
    "# Построим общую гистограмму для всех числовых столбцов таблицы. Проверим распределение количественных признаков\n",
    "data.hist(figsize=(15, 20));"
   ]
  },
  {
   "cell_type": "code",
   "execution_count": 59,
   "metadata": {},
   "outputs": [
    {
     "data": {
      "text/html": [
       "<div>\n",
       "<style scoped>\n",
       "    .dataframe tbody tr th:only-of-type {\n",
       "        vertical-align: middle;\n",
       "    }\n",
       "\n",
       "    .dataframe tbody tr th {\n",
       "        vertical-align: top;\n",
       "    }\n",
       "\n",
       "    .dataframe thead th {\n",
       "        text-align: right;\n",
       "    }\n",
       "</style>\n",
       "<table border=\"1\" class=\"dataframe\">\n",
       "  <thead>\n",
       "    <tr style=\"text-align: right;\">\n",
       "      <th></th>\n",
       "      <th>count</th>\n",
       "      <th>unique</th>\n",
       "      <th>top</th>\n",
       "      <th>freq</th>\n",
       "      <th>mean</th>\n",
       "      <th>std</th>\n",
       "      <th>min</th>\n",
       "      <th>25%</th>\n",
       "      <th>50%</th>\n",
       "      <th>75%</th>\n",
       "      <th>max</th>\n",
       "    </tr>\n",
       "  </thead>\n",
       "  <tbody>\n",
       "    <tr>\n",
       "      <th>RowNumber</th>\n",
       "      <td>9091.0</td>\n",
       "      <td>NaN</td>\n",
       "      <td>NaN</td>\n",
       "      <td>NaN</td>\n",
       "      <td>5013.909911</td>\n",
       "      <td>2884.433466</td>\n",
       "      <td>1.0</td>\n",
       "      <td>2521.5</td>\n",
       "      <td>5019.0</td>\n",
       "      <td>7511.5</td>\n",
       "      <td>9999.0</td>\n",
       "    </tr>\n",
       "    <tr>\n",
       "      <th>CustomerId</th>\n",
       "      <td>9091.0</td>\n",
       "      <td>NaN</td>\n",
       "      <td>NaN</td>\n",
       "      <td>NaN</td>\n",
       "      <td>15691053.156308</td>\n",
       "      <td>71614.191982</td>\n",
       "      <td>15565701.0</td>\n",
       "      <td>15628985.5</td>\n",
       "      <td>15691061.0</td>\n",
       "      <td>15752851.5</td>\n",
       "      <td>15815660.0</td>\n",
       "    </tr>\n",
       "    <tr>\n",
       "      <th>Surname</th>\n",
       "      <td>9091</td>\n",
       "      <td>2787</td>\n",
       "      <td>Smith</td>\n",
       "      <td>30</td>\n",
       "      <td>NaN</td>\n",
       "      <td>NaN</td>\n",
       "      <td>NaN</td>\n",
       "      <td>NaN</td>\n",
       "      <td>NaN</td>\n",
       "      <td>NaN</td>\n",
       "      <td>NaN</td>\n",
       "    </tr>\n",
       "    <tr>\n",
       "      <th>CreditScore</th>\n",
       "      <td>9091.0</td>\n",
       "      <td>NaN</td>\n",
       "      <td>NaN</td>\n",
       "      <td>NaN</td>\n",
       "      <td>650.736553</td>\n",
       "      <td>96.410471</td>\n",
       "      <td>350.0</td>\n",
       "      <td>584.0</td>\n",
       "      <td>652.0</td>\n",
       "      <td>717.0</td>\n",
       "      <td>850.0</td>\n",
       "    </tr>\n",
       "    <tr>\n",
       "      <th>Geography</th>\n",
       "      <td>9091</td>\n",
       "      <td>3</td>\n",
       "      <td>France</td>\n",
       "      <td>4550</td>\n",
       "      <td>NaN</td>\n",
       "      <td>NaN</td>\n",
       "      <td>NaN</td>\n",
       "      <td>NaN</td>\n",
       "      <td>NaN</td>\n",
       "      <td>NaN</td>\n",
       "      <td>NaN</td>\n",
       "    </tr>\n",
       "    <tr>\n",
       "      <th>Gender</th>\n",
       "      <td>9091</td>\n",
       "      <td>2</td>\n",
       "      <td>Male</td>\n",
       "      <td>4974</td>\n",
       "      <td>NaN</td>\n",
       "      <td>NaN</td>\n",
       "      <td>NaN</td>\n",
       "      <td>NaN</td>\n",
       "      <td>NaN</td>\n",
       "      <td>NaN</td>\n",
       "      <td>NaN</td>\n",
       "    </tr>\n",
       "    <tr>\n",
       "      <th>Age</th>\n",
       "      <td>9091.0</td>\n",
       "      <td>NaN</td>\n",
       "      <td>NaN</td>\n",
       "      <td>NaN</td>\n",
       "      <td>38.949181</td>\n",
       "      <td>10.555581</td>\n",
       "      <td>18.0</td>\n",
       "      <td>32.0</td>\n",
       "      <td>37.0</td>\n",
       "      <td>44.0</td>\n",
       "      <td>92.0</td>\n",
       "    </tr>\n",
       "    <tr>\n",
       "      <th>Tenure</th>\n",
       "      <td>9091.0</td>\n",
       "      <td>NaN</td>\n",
       "      <td>NaN</td>\n",
       "      <td>NaN</td>\n",
       "      <td>4.99769</td>\n",
       "      <td>2.894723</td>\n",
       "      <td>0.0</td>\n",
       "      <td>2.0</td>\n",
       "      <td>5.0</td>\n",
       "      <td>7.0</td>\n",
       "      <td>10.0</td>\n",
       "    </tr>\n",
       "    <tr>\n",
       "      <th>Balance</th>\n",
       "      <td>9091.0</td>\n",
       "      <td>NaN</td>\n",
       "      <td>NaN</td>\n",
       "      <td>NaN</td>\n",
       "      <td>76522.740015</td>\n",
       "      <td>62329.528576</td>\n",
       "      <td>0.0</td>\n",
       "      <td>0.0</td>\n",
       "      <td>97318.25</td>\n",
       "      <td>127561.89</td>\n",
       "      <td>250898.09</td>\n",
       "    </tr>\n",
       "    <tr>\n",
       "      <th>NumOfProducts</th>\n",
       "      <td>9091.0</td>\n",
       "      <td>NaN</td>\n",
       "      <td>NaN</td>\n",
       "      <td>NaN</td>\n",
       "      <td>1.530195</td>\n",
       "      <td>0.581003</td>\n",
       "      <td>1.0</td>\n",
       "      <td>1.0</td>\n",
       "      <td>1.0</td>\n",
       "      <td>2.0</td>\n",
       "      <td>4.0</td>\n",
       "    </tr>\n",
       "    <tr>\n",
       "      <th>HasCrCard</th>\n",
       "      <td>9091.0</td>\n",
       "      <td>NaN</td>\n",
       "      <td>NaN</td>\n",
       "      <td>NaN</td>\n",
       "      <td>0.704983</td>\n",
       "      <td>0.456076</td>\n",
       "      <td>0.0</td>\n",
       "      <td>0.0</td>\n",
       "      <td>1.0</td>\n",
       "      <td>1.0</td>\n",
       "      <td>1.0</td>\n",
       "    </tr>\n",
       "    <tr>\n",
       "      <th>IsActiveMember</th>\n",
       "      <td>9091.0</td>\n",
       "      <td>NaN</td>\n",
       "      <td>NaN</td>\n",
       "      <td>NaN</td>\n",
       "      <td>0.515565</td>\n",
       "      <td>0.499785</td>\n",
       "      <td>0.0</td>\n",
       "      <td>0.0</td>\n",
       "      <td>1.0</td>\n",
       "      <td>1.0</td>\n",
       "      <td>1.0</td>\n",
       "    </tr>\n",
       "    <tr>\n",
       "      <th>EstimatedSalary</th>\n",
       "      <td>9091.0</td>\n",
       "      <td>NaN</td>\n",
       "      <td>NaN</td>\n",
       "      <td>NaN</td>\n",
       "      <td>100181.214924</td>\n",
       "      <td>57624.755647</td>\n",
       "      <td>11.58</td>\n",
       "      <td>51227.745</td>\n",
       "      <td>100240.2</td>\n",
       "      <td>149567.21</td>\n",
       "      <td>199992.48</td>\n",
       "    </tr>\n",
       "    <tr>\n",
       "      <th>Exited</th>\n",
       "      <td>9091.0</td>\n",
       "      <td>NaN</td>\n",
       "      <td>NaN</td>\n",
       "      <td>NaN</td>\n",
       "      <td>0.203938</td>\n",
       "      <td>0.402946</td>\n",
       "      <td>0.0</td>\n",
       "      <td>0.0</td>\n",
       "      <td>0.0</td>\n",
       "      <td>0.0</td>\n",
       "      <td>1.0</td>\n",
       "    </tr>\n",
       "  </tbody>\n",
       "</table>\n",
       "</div>"
      ],
      "text/plain": [
       "                  count unique     top  freq             mean           std  \\\n",
       "RowNumber        9091.0    NaN     NaN   NaN      5013.909911   2884.433466   \n",
       "CustomerId       9091.0    NaN     NaN   NaN  15691053.156308  71614.191982   \n",
       "Surname            9091   2787   Smith    30              NaN           NaN   \n",
       "CreditScore      9091.0    NaN     NaN   NaN       650.736553     96.410471   \n",
       "Geography          9091      3  France  4550              NaN           NaN   \n",
       "Gender             9091      2    Male  4974              NaN           NaN   \n",
       "Age              9091.0    NaN     NaN   NaN        38.949181     10.555581   \n",
       "Tenure           9091.0    NaN     NaN   NaN          4.99769      2.894723   \n",
       "Balance          9091.0    NaN     NaN   NaN     76522.740015  62329.528576   \n",
       "NumOfProducts    9091.0    NaN     NaN   NaN         1.530195      0.581003   \n",
       "HasCrCard        9091.0    NaN     NaN   NaN         0.704983      0.456076   \n",
       "IsActiveMember   9091.0    NaN     NaN   NaN         0.515565      0.499785   \n",
       "EstimatedSalary  9091.0    NaN     NaN   NaN    100181.214924  57624.755647   \n",
       "Exited           9091.0    NaN     NaN   NaN         0.203938      0.402946   \n",
       "\n",
       "                        min         25%         50%         75%         max  \n",
       "RowNumber               1.0      2521.5      5019.0      7511.5      9999.0  \n",
       "CustomerId       15565701.0  15628985.5  15691061.0  15752851.5  15815660.0  \n",
       "Surname                 NaN         NaN         NaN         NaN         NaN  \n",
       "CreditScore           350.0       584.0       652.0       717.0       850.0  \n",
       "Geography               NaN         NaN         NaN         NaN         NaN  \n",
       "Gender                  NaN         NaN         NaN         NaN         NaN  \n",
       "Age                    18.0        32.0        37.0        44.0        92.0  \n",
       "Tenure                  0.0         2.0         5.0         7.0        10.0  \n",
       "Balance                 0.0         0.0    97318.25   127561.89   250898.09  \n",
       "NumOfProducts           1.0         1.0         1.0         2.0         4.0  \n",
       "HasCrCard               0.0         0.0         1.0         1.0         1.0  \n",
       "IsActiveMember          0.0         0.0         1.0         1.0         1.0  \n",
       "EstimatedSalary       11.58   51227.745    100240.2   149567.21   199992.48  \n",
       "Exited                  0.0         0.0         0.0         0.0         1.0  "
      ]
     },
     "execution_count": 59,
     "metadata": {},
     "output_type": "execute_result"
    }
   ],
   "source": [
    "# Получим дополнительно информацию о количественных данных\n",
    "data.describe(include='all').T"
   ]
  },
  {
   "cell_type": "markdown",
   "metadata": {},
   "source": [
    "Можем отметить некоторые количественные данные о клиеннтах банка:  \n",
    "\n",
    "* Средний возраст клиента банка 38-39 лет ('Age')   \n",
    "* В среднем пользователи являются клиентами банка 5 лет ('Tenure')  \n",
    "* Средняя зарплата клиента около 100090 руб. ('EstimatedSalary')  \n",
    "* Средний баланс на счетах клиентов около 76486 руб. ('Balance')  \n",
    "\n",
    "Cтоит обратить внимание на следующие признаки:  \n",
    "\n",
    "* В данных по балансу ('Balance') наблюдается выброс, виден высокий пик около 0. Это можно объяснить тем, что клиенты заводили счета, но не держат на нем деньги.  \n",
    "* Также присутствует явный дисбаланс целевого признака 'Exited' (факт ухода клиента). Оставшихся клиентов (0) в 4 раза больше, чем ушедших (1). Дисбаланс в целевом признаке может стать проблемой на этапе обучения моделей. Вернемся к этому пункту позже, на этапе борьбы с дисбалансом.   "
   ]
  },
  {
   "cell_type": "markdown",
   "metadata": {},
   "source": [
    "Проверим дополнительно некоторые данные на аномалии и выбросы: Age, Tenure, Balance, EstimatedSalary"
   ]
  },
  {
   "cell_type": "code",
   "execution_count": 60,
   "metadata": {},
   "outputs": [
    {
     "data": {
      "image/png": "[encoded data removed]",
      "text/plain": [
       "<Figure size 432x288 with 1 Axes>"
      ]
     },
     "metadata": {
      "needs_background": "light"
     },
     "output_type": "display_data"
    }
   ],
   "source": [
    "plt.boxplot(data['Age'])\n",
    "plt.xlabel('')\n",
    "plt.ylabel('Возраст клиента (лет)')\n",
    "plt.title('Распределение возраста')\n",
    "plt.grid(True)\n",
    "plt.show()"
   ]
  },
  {
   "cell_type": "code",
   "execution_count": 61,
   "metadata": {},
   "outputs": [],
   "source": [
    "# Удалим редкие значения (все, что больше 85 лет)\n",
    "data = data.drop(data[data['Age'] > 85].index)"
   ]
  },
  {
   "cell_type": "code",
   "execution_count": 62,
   "metadata": {},
   "outputs": [
    {
     "name": "stdout",
     "output_type": "stream",
     "text": [
      "<class 'pandas.core.frame.DataFrame'>\n",
      "Int64Index: 9089 entries, 0 to 9998\n",
      "Data columns (total 14 columns):\n",
      " #   Column           Non-Null Count  Dtype  \n",
      "---  ------           --------------  -----  \n",
      " 0   RowNumber        9089 non-null   int64  \n",
      " 1   CustomerId       9089 non-null   int64  \n",
      " 2   Surname          9089 non-null   object \n",
      " 3   CreditScore      9089 non-null   int64  \n",
      " 4   Geography        9089 non-null   object \n",
      " 5   Gender           9089 non-null   object \n",
      " 6   Age              9089 non-null   int64  \n",
      " 7   Tenure           9089 non-null   int64  \n",
      " 8   Balance          9089 non-null   float64\n",
      " 9   NumOfProducts    9089 non-null   int64  \n",
      " 10  HasCrCard        9089 non-null   int64  \n",
      " 11  IsActiveMember   9089 non-null   int64  \n",
      " 12  EstimatedSalary  9089 non-null   float64\n",
      " 13  Exited           9089 non-null   int64  \n",
      "dtypes: float64(2), int64(9), object(3)\n",
      "memory usage: 1.0+ MB\n"
     ]
    }
   ],
   "source": [
    "data.info()"
   ]
  },
  {
   "cell_type": "markdown",
   "metadata": {},
   "source": [
    "После удаления выбросов в столбце 'Age' у нас осталось 9089 значений в датасете."
   ]
  },
  {
   "cell_type": "code",
   "execution_count": 63,
   "metadata": {},
   "outputs": [
    {
     "data": {
      "image/png": "[encoded data removed]",
      "text/plain": [
       "<Figure size 432x288 with 1 Axes>"
      ]
     },
     "metadata": {
      "needs_background": "light"
     },
     "output_type": "display_data"
    }
   ],
   "source": [
    "plt.boxplot(data['Tenure'])\n",
    "plt.xlabel('')\n",
    "plt.ylabel('лет')\n",
    "plt.title('Сколько лет человек является клиентом банка')\n",
    "plt.grid(True)\n",
    "plt.show()"
   ]
  },
  {
   "cell_type": "markdown",
   "metadata": {},
   "source": [
    "Выбросов и аномалий не обнаружено"
   ]
  },
  {
   "cell_type": "code",
   "execution_count": 64,
   "metadata": {},
   "outputs": [
    {
     "data": {
      "image/png": "[encoded data removed]",
      "text/plain": [
       "<Figure size 432x288 with 1 Axes>"
      ]
     },
     "metadata": {
      "needs_background": "light"
     },
     "output_type": "display_data"
    }
   ],
   "source": [
    "plt.boxplot(data['Balance'])\n",
    "plt.xlabel('')\n",
    "plt.ylabel('Баланс на счёте (руб.)')\n",
    "plt.title('Распределение баланса на счете (руб.)')\n",
    "plt.grid(True)\n",
    "plt.show()"
   ]
  },
  {
   "cell_type": "markdown",
   "metadata": {},
   "source": [
    "Выбросов и аномалий не обнаружено"
   ]
  },
  {
   "cell_type": "code",
   "execution_count": 65,
   "metadata": {},
   "outputs": [
    {
     "data": {
      "image/png": "[encoded data removed]",
      "text/plain": [
       "<Figure size 432x288 with 1 Axes>"
      ]
     },
     "metadata": {
      "needs_background": "light"
     },
     "output_type": "display_data"
    }
   ],
   "source": [
    "plt.boxplot(data['EstimatedSalary'])\n",
    "plt.xlabel('')\n",
    "plt.ylabel('Зарплата клиента (руб.)')\n",
    "plt.title('Распределение зарплаты (руб.)')\n",
    "plt.grid(True)\n",
    "plt.show()"
   ]
  },
  {
   "cell_type": "markdown",
   "metadata": {},
   "source": [
    "Выбросов и аномалий не обнаружено"
   ]
  },
  {
   "cell_type": "markdown",
   "metadata": {},
   "source": [
    "Проверим категориальные значения: Geography и Gender"
   ]
  },
  {
   "cell_type": "code",
   "execution_count": 66,
   "metadata": {},
   "outputs": [
    {
     "data": {
      "text/plain": [
       "array(['France', 'Germany', 'Spain'], dtype=object)"
      ]
     },
     "execution_count": 66,
     "metadata": {},
     "output_type": "execute_result"
    }
   ],
   "source": [
    "data['Geography'].sort_values(ascending=True).unique()"
   ]
  },
  {
   "cell_type": "code",
   "execution_count": 67,
   "metadata": {},
   "outputs": [
    {
     "data": {
      "text/plain": [
       "<AxesSubplot:>"
      ]
     },
     "execution_count": 67,
     "metadata": {},
     "output_type": "execute_result"
    },
    {
     "data": {
      "image/png": "[encoded data removed]",
      "text/plain": [
       "<Figure size 864x432 with 1 Axes>"
      ]
     },
     "metadata": {
      "needs_background": "light"
     },
     "output_type": "display_data"
    }
   ],
   "source": [
    "data['Geography'].hist(bins = 10, figsize=(12,6))"
   ]
  },
  {
   "cell_type": "markdown",
   "metadata": {},
   "source": [
    "Клиенты банка проживают в 3х странах: Франции, Испании и Германии.\n",
    "Наибольшее количество клиентов (более 4500) из Франции."
   ]
  },
  {
   "cell_type": "code",
   "execution_count": 68,
   "metadata": {},
   "outputs": [
    {
     "data": {
      "text/plain": [
       "<AxesSubplot:>"
      ]
     },
     "execution_count": 68,
     "metadata": {},
     "output_type": "execute_result"
    },
    {
     "data": {
      "image/png": "[encoded data removed]",
      "text/plain": [
       "<Figure size 864x432 with 1 Axes>"
      ]
     },
     "metadata": {
      "needs_background": "light"
     },
     "output_type": "display_data"
    }
   ],
   "source": [
    "data['Gender'].hist(bins = 10, figsize=(12,6))"
   ]
  },
  {
   "cell_type": "markdown",
   "metadata": {},
   "source": [
    "Большинство клиентов банка - мужчины (5000)."
   ]
  },
  {
   "cell_type": "markdown",
   "metadata": {},
   "source": [
    "Дополнительно посмотрим на корреляцию признаков. \n",
    "При высокой степени коррелированности признаков может возникнуть проблема с обучением моделей (мультиколлиниарность признаков). Особенно критична эта проблема может быть для линейных моделей (мультиколлиниарности признаков делает такие модели непригодными для прогнозирования)."
   ]
  },
  {
   "cell_type": "code",
   "execution_count": 69,
   "metadata": {},
   "outputs": [
    {
     "data": {
      "text/html": [
       "<div>\n",
       "<style scoped>\n",
       "    .dataframe tbody tr th:only-of-type {\n",
       "        vertical-align: middle;\n",
       "    }\n",
       "\n",
       "    .dataframe tbody tr th {\n",
       "        vertical-align: top;\n",
       "    }\n",
       "\n",
       "    .dataframe thead th {\n",
       "        text-align: right;\n",
       "    }\n",
       "</style>\n",
       "<table border=\"1\" class=\"dataframe\">\n",
       "  <thead>\n",
       "    <tr style=\"text-align: right;\">\n",
       "      <th></th>\n",
       "      <th>RowNumber</th>\n",
       "      <th>CustomerId</th>\n",
       "      <th>CreditScore</th>\n",
       "      <th>Age</th>\n",
       "      <th>Tenure</th>\n",
       "      <th>Balance</th>\n",
       "      <th>NumOfProducts</th>\n",
       "      <th>HasCrCard</th>\n",
       "      <th>IsActiveMember</th>\n",
       "      <th>EstimatedSalary</th>\n",
       "      <th>Exited</th>\n",
       "    </tr>\n",
       "  </thead>\n",
       "  <tbody>\n",
       "    <tr>\n",
       "      <th>RowNumber</th>\n",
       "      <td>1.000000</td>\n",
       "      <td>0.004484</td>\n",
       "      <td>0.002154</td>\n",
       "      <td>0.000801</td>\n",
       "      <td>-0.007064</td>\n",
       "      <td>-0.006095</td>\n",
       "      <td>0.009104</td>\n",
       "      <td>0.001268</td>\n",
       "      <td>0.009568</td>\n",
       "      <td>-0.004859</td>\n",
       "      <td>-0.014579</td>\n",
       "    </tr>\n",
       "    <tr>\n",
       "      <th>CustomerId</th>\n",
       "      <td>0.004484</td>\n",
       "      <td>1.000000</td>\n",
       "      <td>-0.001316</td>\n",
       "      <td>0.009766</td>\n",
       "      <td>-0.021816</td>\n",
       "      <td>-0.007179</td>\n",
       "      <td>0.014493</td>\n",
       "      <td>-0.019987</td>\n",
       "      <td>0.001362</td>\n",
       "      <td>0.010133</td>\n",
       "      <td>-0.006970</td>\n",
       "    </tr>\n",
       "    <tr>\n",
       "      <th>CreditScore</th>\n",
       "      <td>0.002154</td>\n",
       "      <td>-0.001316</td>\n",
       "      <td>1.000000</td>\n",
       "      <td>-0.004095</td>\n",
       "      <td>0.000296</td>\n",
       "      <td>0.002563</td>\n",
       "      <td>0.011169</td>\n",
       "      <td>-0.003876</td>\n",
       "      <td>0.031047</td>\n",
       "      <td>0.005125</td>\n",
       "      <td>-0.024002</td>\n",
       "    </tr>\n",
       "    <tr>\n",
       "      <th>Age</th>\n",
       "      <td>0.000801</td>\n",
       "      <td>0.009766</td>\n",
       "      <td>-0.004095</td>\n",
       "      <td>1.000000</td>\n",
       "      <td>-0.013292</td>\n",
       "      <td>0.031755</td>\n",
       "      <td>-0.032825</td>\n",
       "      <td>-0.014857</td>\n",
       "      <td>0.081456</td>\n",
       "      <td>-0.006003</td>\n",
       "      <td>0.284298</td>\n",
       "    </tr>\n",
       "    <tr>\n",
       "      <th>Tenure</th>\n",
       "      <td>-0.007064</td>\n",
       "      <td>-0.021816</td>\n",
       "      <td>0.000296</td>\n",
       "      <td>-0.013292</td>\n",
       "      <td>1.000000</td>\n",
       "      <td>-0.007559</td>\n",
       "      <td>0.011952</td>\n",
       "      <td>0.027216</td>\n",
       "      <td>-0.032227</td>\n",
       "      <td>0.010506</td>\n",
       "      <td>-0.016747</td>\n",
       "    </tr>\n",
       "    <tr>\n",
       "      <th>Balance</th>\n",
       "      <td>-0.006095</td>\n",
       "      <td>-0.007179</td>\n",
       "      <td>0.002563</td>\n",
       "      <td>0.031755</td>\n",
       "      <td>-0.007559</td>\n",
       "      <td>1.000000</td>\n",
       "      <td>-0.301877</td>\n",
       "      <td>-0.019027</td>\n",
       "      <td>-0.003239</td>\n",
       "      <td>0.014343</td>\n",
       "      <td>0.117211</td>\n",
       "    </tr>\n",
       "    <tr>\n",
       "      <th>NumOfProducts</th>\n",
       "      <td>0.009104</td>\n",
       "      <td>0.014493</td>\n",
       "      <td>0.011169</td>\n",
       "      <td>-0.032825</td>\n",
       "      <td>0.011952</td>\n",
       "      <td>-0.301877</td>\n",
       "      <td>1.000000</td>\n",
       "      <td>0.005690</td>\n",
       "      <td>0.008913</td>\n",
       "      <td>0.014167</td>\n",
       "      <td>-0.050186</td>\n",
       "    </tr>\n",
       "    <tr>\n",
       "      <th>HasCrCard</th>\n",
       "      <td>0.001268</td>\n",
       "      <td>-0.019987</td>\n",
       "      <td>-0.003876</td>\n",
       "      <td>-0.014857</td>\n",
       "      <td>0.027216</td>\n",
       "      <td>-0.019027</td>\n",
       "      <td>0.005690</td>\n",
       "      <td>1.000000</td>\n",
       "      <td>-0.008950</td>\n",
       "      <td>-0.005998</td>\n",
       "      <td>-0.005339</td>\n",
       "    </tr>\n",
       "    <tr>\n",
       "      <th>IsActiveMember</th>\n",
       "      <td>0.009568</td>\n",
       "      <td>0.001362</td>\n",
       "      <td>0.031047</td>\n",
       "      <td>0.081456</td>\n",
       "      <td>-0.032227</td>\n",
       "      <td>-0.003239</td>\n",
       "      <td>0.008913</td>\n",
       "      <td>-0.008950</td>\n",
       "      <td>1.000000</td>\n",
       "      <td>-0.019844</td>\n",
       "      <td>-0.154975</td>\n",
       "    </tr>\n",
       "    <tr>\n",
       "      <th>EstimatedSalary</th>\n",
       "      <td>-0.004859</td>\n",
       "      <td>0.010133</td>\n",
       "      <td>0.005125</td>\n",
       "      <td>-0.006003</td>\n",
       "      <td>0.010506</td>\n",
       "      <td>0.014343</td>\n",
       "      <td>0.014167</td>\n",
       "      <td>-0.005998</td>\n",
       "      <td>-0.019844</td>\n",
       "      <td>1.000000</td>\n",
       "      <td>0.015922</td>\n",
       "    </tr>\n",
       "    <tr>\n",
       "      <th>Exited</th>\n",
       "      <td>-0.014579</td>\n",
       "      <td>-0.006970</td>\n",
       "      <td>-0.024002</td>\n",
       "      <td>0.284298</td>\n",
       "      <td>-0.016747</td>\n",
       "      <td>0.117211</td>\n",
       "      <td>-0.050186</td>\n",
       "      <td>-0.005339</td>\n",
       "      <td>-0.154975</td>\n",
       "      <td>0.015922</td>\n",
       "      <td>1.000000</td>\n",
       "    </tr>\n",
       "  </tbody>\n",
       "</table>\n",
       "</div>"
      ],
      "text/plain": [
       "                 RowNumber  CustomerId  CreditScore       Age    Tenure  \\\n",
       "RowNumber         1.000000    0.004484     0.002154  0.000801 -0.007064   \n",
       "CustomerId        0.004484    1.000000    -0.001316  0.009766 -0.021816   \n",
       "CreditScore       0.002154   -0.001316     1.000000 -0.004095  0.000296   \n",
       "Age               0.000801    0.009766    -0.004095  1.000000 -0.013292   \n",
       "Tenure           -0.007064   -0.021816     0.000296 -0.013292  1.000000   \n",
       "Balance          -0.006095   -0.007179     0.002563  0.031755 -0.007559   \n",
       "NumOfProducts     0.009104    0.014493     0.011169 -0.032825  0.011952   \n",
       "HasCrCard         0.001268   -0.019987    -0.003876 -0.014857  0.027216   \n",
       "IsActiveMember    0.009568    0.001362     0.031047  0.081456 -0.032227   \n",
       "EstimatedSalary  -0.004859    0.010133     0.005125 -0.006003  0.010506   \n",
       "Exited           -0.014579   -0.006970    -0.024002  0.284298 -0.016747   \n",
       "\n",
       "                  Balance  NumOfProducts  HasCrCard  IsActiveMember  \\\n",
       "RowNumber       -0.006095       0.009104   0.001268        0.009568   \n",
       "CustomerId      -0.007179       0.014493  -0.019987        0.001362   \n",
       "CreditScore      0.002563       0.011169  -0.003876        0.031047   \n",
       "Age              0.031755      -0.032825  -0.014857        0.081456   \n",
       "Tenure          -0.007559       0.011952   0.027216       -0.032227   \n",
       "Balance          1.000000      -0.301877  -0.019027       -0.003239   \n",
       "NumOfProducts   -0.301877       1.000000   0.005690        0.008913   \n",
       "HasCrCard       -0.019027       0.005690   1.000000       -0.008950   \n",
       "IsActiveMember  -0.003239       0.008913  -0.008950        1.000000   \n",
       "EstimatedSalary  0.014343       0.014167  -0.005998       -0.019844   \n",
       "Exited           0.117211      -0.050186  -0.005339       -0.154975   \n",
       "\n",
       "                 EstimatedSalary    Exited  \n",
       "RowNumber              -0.004859 -0.014579  \n",
       "CustomerId              0.010133 -0.006970  \n",
       "CreditScore             0.005125 -0.024002  \n",
       "Age                    -0.006003  0.284298  \n",
       "Tenure                  0.010506 -0.016747  \n",
       "Balance                 0.014343  0.117211  \n",
       "NumOfProducts           0.014167 -0.050186  \n",
       "HasCrCard              -0.005998 -0.005339  \n",
       "IsActiveMember         -0.019844 -0.154975  \n",
       "EstimatedSalary         1.000000  0.015922  \n",
       "Exited                  0.015922  1.000000  "
      ]
     },
     "execution_count": 69,
     "metadata": {},
     "output_type": "execute_result"
    }
   ],
   "source": [
    "# Найдем коэффициент корреляции для всех пар столбцов\n",
    "data.corr()"
   ]
  },
  {
   "cell_type": "markdown",
   "metadata": {},
   "source": [
    "Каких-либо сильных связей между признаками в таблице - матрице корреляций не обнаружено."
   ]
  },
  {
   "cell_type": "markdown",
   "metadata": {},
   "source": [
    "Удалим лишние столбцы, которые не повлияют на обучение модели на последующих этапах: 'RowNumber', 'CustomerId', 'Surname'"
   ]
  },
  {
   "cell_type": "code",
   "execution_count": 70,
   "metadata": {},
   "outputs": [],
   "source": [
    "data = data.drop(['RowNumber', 'CustomerId', 'Surname'], axis=1)"
   ]
  },
  {
   "cell_type": "code",
   "execution_count": 71,
   "metadata": {},
   "outputs": [
    {
     "data": {
      "text/html": [
       "<div>\n",
       "<style scoped>\n",
       "    .dataframe tbody tr th:only-of-type {\n",
       "        vertical-align: middle;\n",
       "    }\n",
       "\n",
       "    .dataframe tbody tr th {\n",
       "        vertical-align: top;\n",
       "    }\n",
       "\n",
       "    .dataframe thead th {\n",
       "        text-align: right;\n",
       "    }\n",
       "</style>\n",
       "<table border=\"1\" class=\"dataframe\">\n",
       "  <thead>\n",
       "    <tr style=\"text-align: right;\">\n",
       "      <th></th>\n",
       "      <th>CreditScore</th>\n",
       "      <th>Geography</th>\n",
       "      <th>Gender</th>\n",
       "      <th>Age</th>\n",
       "      <th>Tenure</th>\n",
       "      <th>Balance</th>\n",
       "      <th>NumOfProducts</th>\n",
       "      <th>HasCrCard</th>\n",
       "      <th>IsActiveMember</th>\n",
       "      <th>EstimatedSalary</th>\n",
       "      <th>Exited</th>\n",
       "    </tr>\n",
       "  </thead>\n",
       "  <tbody>\n",
       "    <tr>\n",
       "      <th>0</th>\n",
       "      <td>619</td>\n",
       "      <td>France</td>\n",
       "      <td>Female</td>\n",
       "      <td>42</td>\n",
       "      <td>2</td>\n",
       "      <td>0.00</td>\n",
       "      <td>1</td>\n",
       "      <td>1</td>\n",
       "      <td>1</td>\n",
       "      <td>101348.88</td>\n",
       "      <td>1</td>\n",
       "    </tr>\n",
       "    <tr>\n",
       "      <th>1</th>\n",
       "      <td>608</td>\n",
       "      <td>Spain</td>\n",
       "      <td>Female</td>\n",
       "      <td>41</td>\n",
       "      <td>1</td>\n",
       "      <td>83807.86</td>\n",
       "      <td>1</td>\n",
       "      <td>0</td>\n",
       "      <td>1</td>\n",
       "      <td>112542.58</td>\n",
       "      <td>0</td>\n",
       "    </tr>\n",
       "    <tr>\n",
       "      <th>2</th>\n",
       "      <td>502</td>\n",
       "      <td>France</td>\n",
       "      <td>Female</td>\n",
       "      <td>42</td>\n",
       "      <td>8</td>\n",
       "      <td>159660.80</td>\n",
       "      <td>3</td>\n",
       "      <td>1</td>\n",
       "      <td>0</td>\n",
       "      <td>113931.57</td>\n",
       "      <td>1</td>\n",
       "    </tr>\n",
       "    <tr>\n",
       "      <th>3</th>\n",
       "      <td>699</td>\n",
       "      <td>France</td>\n",
       "      <td>Female</td>\n",
       "      <td>39</td>\n",
       "      <td>1</td>\n",
       "      <td>0.00</td>\n",
       "      <td>2</td>\n",
       "      <td>0</td>\n",
       "      <td>0</td>\n",
       "      <td>93826.63</td>\n",
       "      <td>0</td>\n",
       "    </tr>\n",
       "    <tr>\n",
       "      <th>4</th>\n",
       "      <td>850</td>\n",
       "      <td>Spain</td>\n",
       "      <td>Female</td>\n",
       "      <td>43</td>\n",
       "      <td>2</td>\n",
       "      <td>125510.82</td>\n",
       "      <td>1</td>\n",
       "      <td>1</td>\n",
       "      <td>1</td>\n",
       "      <td>79084.10</td>\n",
       "      <td>0</td>\n",
       "    </tr>\n",
       "  </tbody>\n",
       "</table>\n",
       "</div>"
      ],
      "text/plain": [
       "   CreditScore Geography  Gender  Age  Tenure    Balance  NumOfProducts  \\\n",
       "0          619    France  Female   42       2       0.00              1   \n",
       "1          608     Spain  Female   41       1   83807.86              1   \n",
       "2          502    France  Female   42       8  159660.80              3   \n",
       "3          699    France  Female   39       1       0.00              2   \n",
       "4          850     Spain  Female   43       2  125510.82              1   \n",
       "\n",
       "   HasCrCard  IsActiveMember  EstimatedSalary  Exited  \n",
       "0          1               1        101348.88       1  \n",
       "1          0               1        112542.58       0  \n",
       "2          1               0        113931.57       1  \n",
       "3          0               0         93826.63       0  \n",
       "4          1               1         79084.10       0  "
      ]
     },
     "execution_count": 71,
     "metadata": {},
     "output_type": "execute_result"
    }
   ],
   "source": [
    "data.head()"
   ]
  },
  {
   "cell_type": "markdown",
   "metadata": {},
   "source": [
    "Категориальные значения 'Geography' и 'Gender' необходимо преобразовать в числа для дальнейшего обучения моделей."
   ]
  },
  {
   "cell_type": "code",
   "execution_count": 72,
   "metadata": {},
   "outputs": [],
   "source": [
    "# Используем метод get_dummies для преобразования признаков\n",
    "data = pd.get_dummies(data, columns=['Geography', 'Gender'], drop_first=True)"
   ]
  },
  {
   "cell_type": "code",
   "execution_count": 73,
   "metadata": {},
   "outputs": [
    {
     "data": {
      "text/html": [
       "<div>\n",
       "<style scoped>\n",
       "    .dataframe tbody tr th:only-of-type {\n",
       "        vertical-align: middle;\n",
       "    }\n",
       "\n",
       "    .dataframe tbody tr th {\n",
       "        vertical-align: top;\n",
       "    }\n",
       "\n",
       "    .dataframe thead th {\n",
       "        text-align: right;\n",
       "    }\n",
       "</style>\n",
       "<table border=\"1\" class=\"dataframe\">\n",
       "  <thead>\n",
       "    <tr style=\"text-align: right;\">\n",
       "      <th></th>\n",
       "      <th>CreditScore</th>\n",
       "      <th>Age</th>\n",
       "      <th>Tenure</th>\n",
       "      <th>Balance</th>\n",
       "      <th>NumOfProducts</th>\n",
       "      <th>HasCrCard</th>\n",
       "      <th>IsActiveMember</th>\n",
       "      <th>EstimatedSalary</th>\n",
       "      <th>Exited</th>\n",
       "      <th>Geography_Germany</th>\n",
       "      <th>Geography_Spain</th>\n",
       "      <th>Gender_Male</th>\n",
       "    </tr>\n",
       "  </thead>\n",
       "  <tbody>\n",
       "    <tr>\n",
       "      <th>0</th>\n",
       "      <td>619</td>\n",
       "      <td>42</td>\n",
       "      <td>2</td>\n",
       "      <td>0.00</td>\n",
       "      <td>1</td>\n",
       "      <td>1</td>\n",
       "      <td>1</td>\n",
       "      <td>101348.88</td>\n",
       "      <td>1</td>\n",
       "      <td>0</td>\n",
       "      <td>0</td>\n",
       "      <td>0</td>\n",
       "    </tr>\n",
       "    <tr>\n",
       "      <th>1</th>\n",
       "      <td>608</td>\n",
       "      <td>41</td>\n",
       "      <td>1</td>\n",
       "      <td>83807.86</td>\n",
       "      <td>1</td>\n",
       "      <td>0</td>\n",
       "      <td>1</td>\n",
       "      <td>112542.58</td>\n",
       "      <td>0</td>\n",
       "      <td>0</td>\n",
       "      <td>1</td>\n",
       "      <td>0</td>\n",
       "    </tr>\n",
       "    <tr>\n",
       "      <th>2</th>\n",
       "      <td>502</td>\n",
       "      <td>42</td>\n",
       "      <td>8</td>\n",
       "      <td>159660.80</td>\n",
       "      <td>3</td>\n",
       "      <td>1</td>\n",
       "      <td>0</td>\n",
       "      <td>113931.57</td>\n",
       "      <td>1</td>\n",
       "      <td>0</td>\n",
       "      <td>0</td>\n",
       "      <td>0</td>\n",
       "    </tr>\n",
       "    <tr>\n",
       "      <th>3</th>\n",
       "      <td>699</td>\n",
       "      <td>39</td>\n",
       "      <td>1</td>\n",
       "      <td>0.00</td>\n",
       "      <td>2</td>\n",
       "      <td>0</td>\n",
       "      <td>0</td>\n",
       "      <td>93826.63</td>\n",
       "      <td>0</td>\n",
       "      <td>0</td>\n",
       "      <td>0</td>\n",
       "      <td>0</td>\n",
       "    </tr>\n",
       "    <tr>\n",
       "      <th>4</th>\n",
       "      <td>850</td>\n",
       "      <td>43</td>\n",
       "      <td>2</td>\n",
       "      <td>125510.82</td>\n",
       "      <td>1</td>\n",
       "      <td>1</td>\n",
       "      <td>1</td>\n",
       "      <td>79084.10</td>\n",
       "      <td>0</td>\n",
       "      <td>0</td>\n",
       "      <td>1</td>\n",
       "      <td>0</td>\n",
       "    </tr>\n",
       "    <tr>\n",
       "      <th>5</th>\n",
       "      <td>645</td>\n",
       "      <td>44</td>\n",
       "      <td>8</td>\n",
       "      <td>113755.78</td>\n",
       "      <td>2</td>\n",
       "      <td>1</td>\n",
       "      <td>0</td>\n",
       "      <td>149756.71</td>\n",
       "      <td>1</td>\n",
       "      <td>0</td>\n",
       "      <td>1</td>\n",
       "      <td>1</td>\n",
       "    </tr>\n",
       "    <tr>\n",
       "      <th>6</th>\n",
       "      <td>822</td>\n",
       "      <td>50</td>\n",
       "      <td>7</td>\n",
       "      <td>0.00</td>\n",
       "      <td>2</td>\n",
       "      <td>1</td>\n",
       "      <td>1</td>\n",
       "      <td>10062.80</td>\n",
       "      <td>0</td>\n",
       "      <td>0</td>\n",
       "      <td>0</td>\n",
       "      <td>1</td>\n",
       "    </tr>\n",
       "    <tr>\n",
       "      <th>7</th>\n",
       "      <td>376</td>\n",
       "      <td>29</td>\n",
       "      <td>4</td>\n",
       "      <td>115046.74</td>\n",
       "      <td>4</td>\n",
       "      <td>1</td>\n",
       "      <td>0</td>\n",
       "      <td>119346.88</td>\n",
       "      <td>1</td>\n",
       "      <td>1</td>\n",
       "      <td>0</td>\n",
       "      <td>0</td>\n",
       "    </tr>\n",
       "    <tr>\n",
       "      <th>8</th>\n",
       "      <td>501</td>\n",
       "      <td>44</td>\n",
       "      <td>4</td>\n",
       "      <td>142051.07</td>\n",
       "      <td>2</td>\n",
       "      <td>0</td>\n",
       "      <td>1</td>\n",
       "      <td>74940.50</td>\n",
       "      <td>0</td>\n",
       "      <td>0</td>\n",
       "      <td>0</td>\n",
       "      <td>1</td>\n",
       "    </tr>\n",
       "    <tr>\n",
       "      <th>9</th>\n",
       "      <td>684</td>\n",
       "      <td>27</td>\n",
       "      <td>2</td>\n",
       "      <td>134603.88</td>\n",
       "      <td>1</td>\n",
       "      <td>1</td>\n",
       "      <td>1</td>\n",
       "      <td>71725.73</td>\n",
       "      <td>0</td>\n",
       "      <td>0</td>\n",
       "      <td>0</td>\n",
       "      <td>1</td>\n",
       "    </tr>\n",
       "  </tbody>\n",
       "</table>\n",
       "</div>"
      ],
      "text/plain": [
       "   CreditScore  Age  Tenure    Balance  NumOfProducts  HasCrCard  \\\n",
       "0          619   42       2       0.00              1          1   \n",
       "1          608   41       1   83807.86              1          0   \n",
       "2          502   42       8  159660.80              3          1   \n",
       "3          699   39       1       0.00              2          0   \n",
       "4          850   43       2  125510.82              1          1   \n",
       "5          645   44       8  113755.78              2          1   \n",
       "6          822   50       7       0.00              2          1   \n",
       "7          376   29       4  115046.74              4          1   \n",
       "8          501   44       4  142051.07              2          0   \n",
       "9          684   27       2  134603.88              1          1   \n",
       "\n",
       "   IsActiveMember  EstimatedSalary  Exited  Geography_Germany  \\\n",
       "0               1        101348.88       1                  0   \n",
       "1               1        112542.58       0                  0   \n",
       "2               0        113931.57       1                  0   \n",
       "3               0         93826.63       0                  0   \n",
       "4               1         79084.10       0                  0   \n",
       "5               0        149756.71       1                  0   \n",
       "6               1         10062.80       0                  0   \n",
       "7               0        119346.88       1                  1   \n",
       "8               1         74940.50       0                  0   \n",
       "9               1         71725.73       0                  0   \n",
       "\n",
       "   Geography_Spain  Gender_Male  \n",
       "0                0            0  \n",
       "1                1            0  \n",
       "2                0            0  \n",
       "3                0            0  \n",
       "4                1            0  \n",
       "5                1            1  \n",
       "6                0            1  \n",
       "7                0            0  \n",
       "8                0            1  \n",
       "9                0            1  "
      ]
     },
     "execution_count": 73,
     "metadata": {},
     "output_type": "execute_result"
    }
   ],
   "source": [
    "# Проверим результат\n",
    "data.head(10)"
   ]
  },
  {
   "cell_type": "markdown",
   "metadata": {},
   "source": [
    "**Выводы:**\n",
    "\n",
    "На этапе подготовки данных была  изучена основная информация о клиентах, содержащаяся в датасете:\n",
    "\n",
    "* Средний возраст клиента банка 38-39 лет ('Age')\n",
    "* В среднем пользователи являются клиентами банка 5 лет ('Tenure')\n",
    "* Средняя зарплата клиента около 100090 руб. ('EstimatedSalary')\n",
    "* Средний баланс на счетах клиентов около 76486 руб. ('Balance')\n",
    "* Клиенты банка проживают в 3х странах: Франции, Испании и Германии. Наибольшее количество клиентов (более 4500) из Франции.\n",
    "* Большинство клиентов банка - мужчины (5000).\n",
    "\n",
    "Были проведены предобработка и исследовательский анализ данных. Проверены типы данных в датасете, пропуски и дубликаты. Изучены по отдельности категориальные и количественные значения на предмет выбросов и аномалий.\n",
    "\n",
    "* Были удалены пустые значения в столбце 'Tenure';  \n",
    "* Изменен тип данных 'Tenure' с float на int;  \n",
    "* Проверено распределение количественных признаков в датасете;  \n",
    "* Удалены редкие значения в столбце 'Age' (все, что больше 85 лет);  \n",
    "* Обнаружен  высокий пик около 0 в столбце 'Balance'. Это можно объяснить тем, что клиенты заводили счета, но не держат на нем деньги. Не изменяли и не удаляли значения в этом столбце;  \n",
    "* Отмечен дисбаланс целевого признака 'Exited' (факт ухода клиента). Оставшихся клиентов (0) в 4 раза больше, чем ушедших (1). Дисбаланс в целевом признаке может стать проблемой на этапе обучения моделей. Вернемся к этому пункту позже, на этапе борьбы с дисбалансом;  \n",
    "* Изучили корреляцию признаков в таблице-матрице. Сильных связей между признаками обнаружено не было;  \n",
    "* Удалили столбцы, которые не повлияют на обучение модели на последующих этапах: 'RowNumber', 'CustomerId', 'Surname';\n",
    "* Категориальные значения 'Geography' и 'Gender' были преобразованы в числа для дальнейшего обучения моделей."
   ]
  },
  {
   "cell_type": "markdown",
   "metadata": {},
   "source": [
    "## Исследование задачи"
   ]
  },
  {
   "cell_type": "markdown",
   "metadata": {},
   "source": [
    "### Разделите исходные данные на обучающую, валидационную и тестовую выборки."
   ]
  },
  {
   "cell_type": "markdown",
   "metadata": {},
   "source": [
    "Разделим данные на целевое значение ('Exited') и прочие значения (без 'Exited')."
   ]
  },
  {
   "cell_type": "code",
   "execution_count": 74,
   "metadata": {},
   "outputs": [],
   "source": [
    "target = data['Exited']\n",
    "features = data.drop('Exited', axis=1)"
   ]
  },
  {
   "cell_type": "code",
   "execution_count": 75,
   "metadata": {},
   "outputs": [],
   "source": [
    "# Разделим исходные данные на обучающую и временную выборку\n",
    "train_data, temp_data = train_test_split(data, test_size=0.4, random_state=12345)"
   ]
  },
  {
   "cell_type": "code",
   "execution_count": 76,
   "metadata": {},
   "outputs": [],
   "source": [
    "# Разделим временную выборку на валидационную и тестовую выборки\n",
    "valid_data, test_data = train_test_split(temp_data, test_size=0.5, random_state=12345)"
   ]
  },
  {
   "cell_type": "code",
   "execution_count": 77,
   "metadata": {},
   "outputs": [],
   "source": [
    "# Признаки для обучающей выборки\n",
    "train_features = train_data.drop('Exited', axis=1)\n",
    "# Целевой признак для обучающей выборки\n",
    "train_target = train_data['Exited']\n",
    "\n",
    "# Признаки для валидационной выборки\n",
    "valid_features = valid_data.drop('Exited', axis=1)\n",
    "# Целевой признак для валидационной выборки\n",
    "valid_target = valid_data['Exited']\n",
    "\n",
    "# Признаки для тестовой выборки\n",
    "test_features = test_data.drop('Exited', axis=1)\n",
    "# Целевой признак для тестовой выборки\n",
    "test_target = test_data['Exited']"
   ]
  },
  {
   "cell_type": "code",
   "execution_count": 78,
   "metadata": {},
   "outputs": [
    {
     "name": "stdout",
     "output_type": "stream",
     "text": [
      "Размер обучающей выборки: (5453, 12)\n",
      "Размер валидационной выборки: (1818, 12)\n",
      "Размер тестовой выборки: (1818, 12)\n"
     ]
    }
   ],
   "source": [
    "# Проверим размеры выборок\n",
    "print(\"Размер обучающей выборки:\", train_data.shape)\n",
    "print(\"Размер валидационной выборки:\", valid_data.shape)\n",
    "print(\"Размер тестовой выборки:\", test_data.shape)"
   ]
  },
  {
   "cell_type": "markdown",
   "metadata": {},
   "source": [
    "У признаков разный масштаб. Например, столбцы: Age, EstimatedSalary, Balance. Возраст клиентов от 18 до 85 лет, а возможная зарблата и баланс на счетах измеряется тысячами руб. Значения и их разбросы в столбцах EstimatedSalary, Balance больше, поэтому алгоритм автоматически решит, что эти признаки важнее возраста. Но это не так. Чтобы избежать этой ловушки, мы масштабируем признаки (то есть приведем их к одному масштабу) с помощью метода стандартизации данных StandardScaler(). "
   ]
  },
  {
   "cell_type": "code",
   "execution_count": 79,
   "metadata": {},
   "outputs": [],
   "source": [
    "pd.options.mode.chained_assignment = None\n",
    "\n",
    "scaler = StandardScaler()\n",
    "scaler.fit(train_features)\n",
    "train_features = pd.DataFrame(scaler.transform(train_features))\n",
    "train_target = train_target.reset_index(drop = True)\n",
    "\n",
    "scaler.fit(valid_features)\n",
    "valid_features = pd.DataFrame(scaler.transform(valid_features))\n",
    "valid_target = valid_target.reset_index(drop = True)\n",
    "\n",
    "scaler.fit(test_features)\n",
    "test_features = pd.DataFrame(scaler.transform(test_features))\n",
    "test_target = test_target.reset_index(drop = True)"
   ]
  },
  {
   "cell_type": "markdown",
   "metadata": {},
   "source": [
    "У нас сохраняется еще одна проблема. Дисбаланс целевого признака 'Exited' (факт ухода клиента). Оставшихся клиентов (0) в 4 раза больше, чем ушедших (1)."
   ]
  },
  {
   "cell_type": "code",
   "execution_count": 80,
   "metadata": {},
   "outputs": [
    {
     "name": "stdout",
     "output_type": "stream",
     "text": [
      "Доля положительного целевого признака в выборке 25.63%\n"
     ]
    }
   ],
   "source": [
    "part = data['Exited'].value_counts()[1] / data['Exited'].value_counts()[0]\n",
    "print(f'Доля положительного целевого признака в выборке {part:.2%}')"
   ]
  },
  {
   "cell_type": "markdown",
   "metadata": {},
   "source": [
    "Выберем и обучим модели сначала без учета дисбаланса. Затем попробуем избавится от дисбаланса и обучим модели еще раз. Сравним результаты по f1-мере. "
   ]
  },
  {
   "cell_type": "markdown",
   "metadata": {},
   "source": [
    "### Исследуйте модели"
   ]
  },
  {
   "cell_type": "markdown",
   "metadata": {},
   "source": [
    "В нашем исследовании стоит задача *Классификации* (точнее бинарной/двоичной классификации), так как наш целевой признак 'Exited' - категориальный (факт ухода клиента: «Ушел» — 1, «Остался» — 0).  \n",
    "\n",
    "Таким образом, мы исследуем три модели Классификации:  \n",
    "\n",
    "1. Решающее дерево\n",
    "2. Случайный лес\n",
    "3. Логистическую регрессию"
   ]
  },
  {
   "cell_type": "markdown",
   "metadata": {},
   "source": [
    "#### Модель: Решающее дерево"
   ]
  },
  {
   "cell_type": "markdown",
   "metadata": {},
   "source": [
    "Для начала исследуем модель Решающего дерева (DecisionTreeClassifier). Самый важный гиперпараметр решающего дерева max_depth (максимальная глубина). Построим алгоритм, который перебирает значения max_depth в диапазоне от 1 до 20 и сохраняет модель с лучшим значением метрики f1."
   ]
  },
  {
   "cell_type": "code",
   "execution_count": 81,
   "metadata": {},
   "outputs": [
    {
     "name": "stdout",
     "output_type": "stream",
     "text": [
      "f1 лучшей модели: 0.5324675324675324\n",
      "Глубина для лучшей модели: 4\n"
     ]
    }
   ],
   "source": [
    "best_tree_model = None\n",
    "best_result = 0\n",
    "best_depth = 0\n",
    "\n",
    "for depth in range(1, 21):\n",
    "    tree_model = DecisionTreeClassifier(random_state=12345, max_depth=depth)\n",
    "    tree_model.fit(train_features, train_target)\n",
    "    predictions_valid = tree_model.predict(valid_features)\n",
    "    result = f1_score(valid_target, predictions_valid)\n",
    "    if result > best_result:\n",
    "        best_tree_model = tree_model\n",
    "        best_result = result\n",
    "        best_depth = depth \n",
    "        \n",
    "print('f1 лучшей модели:', best_result)\n",
    "print('Глубина для лучшей модели:', best_depth)"
   ]
  },
  {
   "cell_type": "markdown",
   "metadata": {},
   "source": [
    "#### Модель: Случайный лес"
   ]
  },
  {
   "cell_type": "markdown",
   "metadata": {},
   "source": [
    "Перейдем к оценке модели Случайного леса (RandomForestClassifier). Важнейший гиперпараметр этой модели n_estimators («количество оценщиков»). Построим алгоритм, который перебирает значения n_estimators в диапазоне от 1 до 40, max_depth в диапазоне от 1 до 20 и сохраняет модель с лучшим значением метрики f1."
   ]
  },
  {
   "cell_type": "code",
   "execution_count": 82,
   "metadata": {},
   "outputs": [
    {
     "name": "stdout",
     "output_type": "stream",
     "text": [
      "f1 лучшей модели: 0.6065318818040436\n",
      "Лучшая количество деревьев 39\n",
      "Глубина для лучшей модели: 1\n"
     ]
    }
   ],
   "source": [
    "best_forest_model = None\n",
    "best_result = 0\n",
    "best_estim = 0\n",
    "best_depth = 0\n",
    "\n",
    "for est in range(1, 41):\n",
    "    for depth in range (1, 21):\n",
    "        forest_model = RandomForestClassifier(random_state=12345, n_estimators=est)\n",
    "        forest_model.fit(train_features, train_target)\n",
    "        predictions_valid = forest_model.predict(valid_features)\n",
    "        result = f1_score(valid_target, predictions_valid)\n",
    "        if result > best_result:\n",
    "            best_forest_model = forest_model\n",
    "            best_result = result\n",
    "            best_estim = est \n",
    "            best_depth = depth\n",
    "\n",
    "print('f1 лучшей модели:', best_result)\n",
    "print('Лучшая количество деревьев', best_estim)\n",
    "print('Глубина для лучшей модели:', best_depth)"
   ]
  },
  {
   "cell_type": "markdown",
   "metadata": {},
   "source": [
    "#### Модель: Логистическая регрессия"
   ]
  },
  {
   "cell_type": "markdown",
   "metadata": {},
   "source": [
    "Протестируем последнюю модель классификации Логистическую регрессию (LogisticRegression). Изменим гиперпараметр max_iter - 1000, который задаёт максимальное количество итераций обучения. Добавим дополнительный гиперпараметр - solver='lbfgs' (алгоритм 'lbfgs' — один из самых распространённых и подходит для большинства задач)."
   ]
  },
  {
   "cell_type": "code",
   "execution_count": 83,
   "metadata": {},
   "outputs": [
    {
     "name": "stdout",
     "output_type": "stream",
     "text": [
      "f1 логистической регрессии: 0.3527131782945736\n"
     ]
    }
   ],
   "source": [
    "best_reg_model = LogisticRegression(random_state=12345, solver='lbfgs', max_iter=1000)\n",
    "best_reg_model.fit(train_features, train_target)\n",
    "predictions_valid = best_reg_model.predict(valid_features)\n",
    "result = f1_score(valid_target, predictions_valid)\n",
    "\n",
    "print('f1 логистической регрессии:', result)"
   ]
  },
  {
   "cell_type": "markdown",
   "metadata": {},
   "source": [
    "**Вывод**\n",
    "\n",
    "В ходе исследования тестировались 3 модели классификации. Были получены следующие результаты:  \n",
    "\n",
    "f1 модели Решающего дерева: 0.53, при max_depth равной 4  \n",
    "f1 модели Случайного леса: 0.61, при max_depth равной 1 и n_estimators равному 39  \n",
    "f1 модели Логистической регресии: 0.35  \n",
    "\n",
    "Таким образом, лучший результат показывает модель Случайного леса: 0.61 (max_depth = 1, n_estimators равному = 39).  \n",
    "\n",
    "Теперь попробуем устранить дисбаланс и обучить моделей занова.  "
   ]
  },
  {
   "cell_type": "markdown",
   "metadata": {},
   "source": [
    "## Борьба с дисбалансом"
   ]
  },
  {
   "cell_type": "markdown",
   "metadata": {},
   "source": [
    "Справится с дисбалансом помогут методы upsample и downsample.\n",
    "Дисбаланс целевого признака 'Exited' (факт ухода клиента). Оставшихся клиентов (0) в 4 раза больше, чем ушедших (1).\n",
    "Таким образом, для upsample будем использовать 4 для параметра repeat, в случае downsample - 0.25."
   ]
  },
  {
   "cell_type": "code",
   "execution_count": 84,
   "metadata": {},
   "outputs": [
    {
     "name": "stdout",
     "output_type": "stream",
     "text": [
      "(4330, 11)\n",
      "(1123, 11)\n",
      "(4330,)\n",
      "(1123,)\n"
     ]
    }
   ],
   "source": [
    "# Создадим новые наборы данных\n",
    "features_zeros = train_features[train_target == 0]\n",
    "features_ones = train_features[train_target == 1]\n",
    "target_zeros = train_target[train_target == 0]\n",
    "target_ones = train_target[train_target == 1]\n",
    "\n",
    "print(features_zeros.shape)\n",
    "print(features_ones.shape)\n",
    "print(target_zeros.shape)\n",
    "print(target_ones.shape)"
   ]
  },
  {
   "cell_type": "code",
   "execution_count": 85,
   "metadata": {},
   "outputs": [],
   "source": [
    "# Напишем функцию для upsample\n",
    "def upsample(features, target, repeat):\n",
    "\n",
    "    features_upsampled = pd.concat([features_zeros] + [features_ones] * repeat)\n",
    "    target_upsampled = pd.concat([target_zeros] + [target_ones] * repeat)\n",
    "    features_upsampled, target_upsampled = shuffle(\n",
    "        features_upsampled, target_upsampled, random_state=12345)\n",
    "    \n",
    "    return features_upsampled, target_upsampled\n",
    "features_upsampled, target_upsampled = upsample(train_features, train_target, 4)"
   ]
  },
  {
   "cell_type": "code",
   "execution_count": 86,
   "metadata": {},
   "outputs": [],
   "source": [
    "# Напишем функцию для downsample\n",
    "def downsample(features, target, fraction):\n",
    "\n",
    "    features_downsampled = pd.concat(\n",
    "        [features_zeros.sample(frac=fraction, random_state=12345)] + [features_ones])\n",
    "    target_downsampled = pd.concat(\n",
    "        [target_zeros.sample(frac=fraction, random_state=12345)] + [target_ones])\n",
    "    \n",
    "    features_downsampled, target_downsampled = shuffle(\n",
    "        features_downsampled, target_downsampled, random_state=12345)\n",
    "    \n",
    "    return features_downsampled, target_downsampled\n",
    "features_downsampled, target_downsampled = downsample(train_features, train_target, 0.25)"
   ]
  },
  {
   "cell_type": "markdown",
   "metadata": {},
   "source": [
    "Снова обучим модели с upsample и downsample"
   ]
  },
  {
   "cell_type": "markdown",
   "metadata": {},
   "source": [
    "### Обучение моделей с выборками upsampled"
   ]
  },
  {
   "cell_type": "markdown",
   "metadata": {},
   "source": [
    "#### Модель: Решающее дерево"
   ]
  },
  {
   "cell_type": "code",
   "execution_count": 87,
   "metadata": {},
   "outputs": [
    {
     "name": "stdout",
     "output_type": "stream",
     "text": [
      "f1 лучшей модели: 0.5914085914085914\n",
      "Глубина для лучшей модели: 5\n"
     ]
    }
   ],
   "source": [
    "best_tree_model = None\n",
    "best_result = 0\n",
    "best_depth = 0\n",
    "\n",
    "for depth in range(1, 41):\n",
    "    tree_model = DecisionTreeClassifier(random_state=12345, max_depth=depth)\n",
    "    tree_model.fit(features_upsampled, target_upsampled) \n",
    "    predictions_valid = tree_model.predict(valid_features)\n",
    "    result = f1_score(valid_target, predictions_valid)\n",
    "    if result > best_result:\n",
    "        best_tree_model = tree_model\n",
    "        best_result = result\n",
    "        best_depth = depth \n",
    "        \n",
    "print('f1 лучшей модели:', best_result)\n",
    "print('Глубина для лучшей модели:', best_depth)"
   ]
  },
  {
   "cell_type": "markdown",
   "metadata": {},
   "source": [
    "#### Модель: Случайный лес"
   ]
  },
  {
   "cell_type": "code",
   "execution_count": null,
   "metadata": {},
   "outputs": [],
   "source": [
    "best_forest_model = None\n",
    "best_result = 0\n",
    "best_estim = 0\n",
    "best_depth = 0\n",
    "\n",
    "for est in range(1, 41):\n",
    "    for depth in range (1, 21):\n",
    "        forest_model = RandomForestClassifier(random_state=12345, n_estimators=est, max_depth=depth)\n",
    "        forest_model.fit(features_upsampled, target_upsampled)\n",
    "        predictions_valid = forest_model.predict(valid_features)\n",
    "        result = f1_score(valid_target, predictions_valid)\n",
    "        if result > best_result:\n",
    "            best_forest_model = forest_model\n",
    "            best_result = result\n",
    "            best_estim = est \n",
    "            best_depth = depth\n",
    "\n",
    "print('f1 лучшей модели:', best_result)\n",
    "print('Лучшая количество деревьев', best_estim)\n",
    "print('Глубина для лучшей модели:', best_depth)"
   ]
  },
  {
   "cell_type": "markdown",
   "metadata": {},
   "source": [
    "#### Модель: Логистическая регрессия"
   ]
  },
  {
   "cell_type": "code",
   "execution_count": null,
   "metadata": {},
   "outputs": [],
   "source": [
    "# Добавим гиперпараметр class_weight='balanced'\n",
    "best_reg_model = LogisticRegression(random_state=12345, solver='lbfgs', max_iter=1000, class_weight='balanced')\n",
    "best_reg_model.fit(features_upsampled, target_upsampled)\n",
    "predictions_valid = best_reg_model.predict(valid_features)\n",
    "result = f1_score(valid_target, predictions_valid)\n",
    "\n",
    "print('f1 логистической регрессии:', result)"
   ]
  },
  {
   "cell_type": "markdown",
   "metadata": {},
   "source": [
    "**Выводы**\n",
    "\n",
    "После избавления от дисбаланса методом upsample показатель f1 значительно улучшился во всех моделях:\n",
    "\n",
    "f1 модели Решающего дерева: 0.59 при max_depth равной 5 (с дисбалансом - 0.53)\n",
    "f1 модели Случайного леса: 0.64 при max_depth равной 12 и n_estimators равному 40 (с дисбалансом - 0.61), \n",
    "f1 модели Логистической регресии: 0.51 (с дисбалансом - 0.35)\n",
    "\n",
    "Таким образом, лучший результат показывает модель Случайного леса: 0.64 (max_depth = 12, n_estimators равному = 40)."
   ]
  },
  {
   "cell_type": "markdown",
   "metadata": {},
   "source": [
    "### Обучение моделей с выборками downsampled"
   ]
  },
  {
   "cell_type": "markdown",
   "metadata": {},
   "source": [
    "#### Модель: Решающее дерево"
   ]
  },
  {
   "cell_type": "code",
   "execution_count": null,
   "metadata": {},
   "outputs": [],
   "source": [
    "best_tree_model = None\n",
    "best_result = 0\n",
    "best_depth = 0\n",
    "\n",
    "for depth in range(1, 21):\n",
    "    tree_model = DecisionTreeClassifier(random_state=12345, max_depth=depth)\n",
    "    tree_model.fit(features_downsampled, target_downsampled)\n",
    "    predictions_valid = tree_model.predict(valid_features)\n",
    "    result = f1_score(valid_target, predictions_valid)\n",
    "    if result > best_result:\n",
    "        best_tree_model = tree_model\n",
    "        best_result = result\n",
    "        best_depth = depth \n",
    "        \n",
    "print('f1 лучшей модели:', best_result)\n",
    "print('Глубина для лучшей модели:', best_depth)"
   ]
  },
  {
   "cell_type": "markdown",
   "metadata": {},
   "source": [
    "#### Модель: Случайный лес"
   ]
  },
  {
   "cell_type": "code",
   "execution_count": null,
   "metadata": {},
   "outputs": [],
   "source": [
    "best_forest_model = None\n",
    "best_result = 0\n",
    "best_estim = 0\n",
    "best_depth = 0\n",
    "\n",
    "for est in range(1, 41):\n",
    "    for depth in range (1, 21):\n",
    "        forest_model = RandomForestClassifier(random_state=12345, n_estimators=est, max_depth=depth)\n",
    "        forest_model.fit(features_downsampled, target_downsampled)\n",
    "        predictions_valid = forest_model.predict(valid_features)\n",
    "        result = f1_score(valid_target, predictions_valid)\n",
    "        if result > best_result:\n",
    "            best_forest_model = forest_model\n",
    "            best_result = result\n",
    "            best_estim = est \n",
    "            best_depth = depth\n",
    "\n",
    "print('f1 лучшей модели:', best_result)\n",
    "print('Лучшая количество деревьев', best_estim)\n",
    "print('Глубина для лучшей модели:', best_depth)"
   ]
  },
  {
   "cell_type": "markdown",
   "metadata": {},
   "source": [
    "#### Модель: Логистическая регрессия"
   ]
  },
  {
   "cell_type": "code",
   "execution_count": null,
   "metadata": {},
   "outputs": [],
   "source": [
    "best_reg_model = LogisticRegression(random_state=12345, solver='lbfgs', max_iter=1000, class_weight='balanced')\n",
    "best_reg_model.fit(features_downsampled, target_downsampled)\n",
    "predictions_valid = best_reg_model.predict(valid_features)\n",
    "result = f1_score(valid_target, predictions_valid)\n",
    "\n",
    "print('f1 логистической регрессии:', result)"
   ]
  },
  {
   "cell_type": "markdown",
   "metadata": {},
   "source": [
    "**Выводы**\n",
    "\n",
    "После избавления от дисбаланса методом downsample показатель f1 значительно улучшился во всех моделях, однако результаты хуже, чем с upsample:  \n",
    "\n",
    "f1 модели Решающего дерева: 0.58 при max_depth равной 6 (с upsample - 0.59, с дисбалансом - 0.53)  \n",
    "f1 модели Случайного леса: 0.60 при max_depth=10 и n_estimators=14 (с upsample - 0.64, с дисбалансом - 0.61)     \n",
    "f1 модели Логистической регресии: 0.51 (с upsample так же - 0.51 с дисбалансом - 0.35)\n",
    "\n",
    "Таким образом, лучший результат показывает модель Случайного леса после upsample: 0.64 (max_depth = 12, n_estimators равному = 40). Эту модель и гиперпараметры берем для обучения модели на тестовой выборке."
   ]
  },
  {
   "cell_type": "markdown",
   "metadata": {},
   "source": [
    "## Тестирование модели"
   ]
  },
  {
   "cell_type": "code",
   "execution_count": null,
   "metadata": {},
   "outputs": [],
   "source": [
    "# Обучим модель Случайного леса на тестовой выборке\n",
    "best_forest_model = RandomForestClassifier(random_state=12345, n_estimators=40, max_depth=12)\n",
    "best_forest_model.fit(features_upsampled, target_upsampled)\n",
    "predictions_test = best_forest_model.predict(test_features)\n",
    "result = f1_score(test_target, predictions_test)\n",
    "print('f1 на лучшей модели:', result)"
   ]
  },
  {
   "cell_type": "markdown",
   "metadata": {},
   "source": [
    "Результат f1-меры на тестовой выборке равен 0.60, что превышает требование задачи (0.59). Таким образом, цель исследования достигнута."
   ]
  },
  {
   "cell_type": "code",
   "execution_count": null,
   "metadata": {},
   "outputs": [],
   "source": [
    "# Дополнительно измерим AUC-ROC и сравним её значение с F1-мерой\n",
    "probabilities_test = best_forest_model.predict_proba(test_features)\n",
    "probabilities_one_test = probabilities_test[:, 1]\n",
    "auc_roc = roc_auc_score(test_target, probabilities_one_test)\n",
    "\n",
    "print(auc_roc)"
   ]
  },
  {
   "cell_type": "markdown",
   "metadata": {},
   "source": [
    "Значение AUC-ROC достаточно высокое, выше, чем случайная модель. Это показывает достаточно высокую точность определения позитивных кейсов."
   ]
  },
  {
   "cell_type": "code",
   "execution_count": null,
   "metadata": {},
   "outputs": [],
   "source": [
    "# Построим график AUC-ROC\n",
    "fpr, tpr, thresholds = roc_curve(test_target, probabilities_one_test) \n",
    "\n",
    "plt.figure()\n",
    "plt.plot([0, 1], [0, 1], linestyle='--')\n",
    "plt.plot(fpr, tpr)\n",
    "plt.xlim([0.0, 1.0])\n",
    "plt.ylim([0.0, 1.0])\n",
    "plt.xlabel('False Positive Rate')\n",
    "plt.ylabel('True Positive Rate')\n",
    "plt.title('ROC-кривая')\n",
    "plt.show()"
   ]
  },
  {
   "cell_type": "markdown",
   "metadata": {},
   "source": [
    "## Выводы"
   ]
  },
  {
   "cell_type": "markdown",
   "metadata": {},
   "source": [
    "На первом этапе исследования были проведены предобработка и исследовательский анализ данных. Проверены типы данных в датасете, пропуски и дубликаты. Изучены по отдельности категориальные и количественные значения на предмет выбросов и аномалий.  \n",
    "\n",
    "На этапе исследования задачи мы разбили исходную выборку на 3 части в соотношении 3:1:1.  \n",
    "Определили целевой признак ('Exited') и создали отдельные датасеты для каждой выборки:  \n",
    "* Обучение пройдет на данных из датасета train_data  \n",
    "* Валидация модели на данных из датасета valid_data  \n",
    "* Лучшая модель по валидации будет применена на данных датасета test_data  \n",
    "\n",
    "Масштабировали признаки (приведем их к одному масштабу) с помощью метода стандартизации данных StandardScaler().  \n",
    " \n",
    "Протестировали 3 модели Классификации без учета дисбаланса: Решающее дерево, Случайный лес и Логистическая регрессия.  \n",
    "В ходе исследований получили результаты:  \n",
    "\n",
    "* f1 модели Решающего дерева: 0.53, при max_depth равной 4  \n",
    "* f1 модели Случайного леса: 0.61, при max_depth равной 1 и n_estimators равному 39  \n",
    "* f1 модели Логистической регресии: 0.35  \n",
    "\n",
    "Далее избавились от дисбаланса признака 'Exited' с помощью методов upsample и downsample. Повторно обучили модели.  \n",
    "\n",
    "Результаты после upsample:  \n",
    "\n",
    "* f1 модели Решающего дерева: 0.59 при max_depth равной 5  \n",
    "* f1 модели Случайного леса: 0.64 при max_depth равной 12 и n_estimators равному 40  \n",
    "* f1 модели Логистической регресии: 0.51  \n",
    "\n",
    "Результаты после downsample:  \n",
    "\n",
    "* f1 модели Решающего дерева: 0.58 при max_depth равной 6  \n",
    "* f1 модели Случайного леса: 0.60 при max_depth=10 и n_estimators=14  \n",
    "* f1 модели Логистической регресии: 0.51  \n",
    "\n",
    "Таким образом, лучший результат показала модель Случайного леса после upsample: 0.64 (max_depth = 12, n_estimators равному = 40).  \n",
    "\n",
    "Эту модель и гиперпараметры взяли для обучения модели на тестовой выборке. В результате обучения получили f1-меры 0.60, что превышает требование задачи (0.59). Дополнительно проверили AUC-ROC, получили значение 0.85, что является достаточно высоким показателем. Это показывает достаточно высокую точность определения позитивных кейсов. Таким образом, можем считать, что цель исследования достигнута.   "
   ]
  },
  {
   "cell_type": "markdown",
   "metadata": {},
   "source": [
    "## Чек-лист готовности проекта"
   ]
  },
  {
   "cell_type": "markdown",
   "metadata": {},
   "source": [
    "Поставьте 'x' в выполненных пунктах. Далее нажмите Shift+Enter."
   ]
  },
  {
   "cell_type": "markdown",
   "metadata": {},
   "source": [
    "- [x]  Jupyter Notebook открыт\n",
    "- [x]  Весь код выполняется без ошибок\n",
    "- [x]  Ячейки с кодом расположены в порядке исполнения\n",
    "- [x]  Выполнен шаг 1: данные подготовлены\n",
    "- [x]  Выполнен шаг 2: задача исследована\n",
    "    - [x]  Исследован баланс классов\n",
    "    - [x]  Изучены модели без учёта дисбаланса\n",
    "    - [x]  Написаны выводы по результатам исследования\n",
    "- [x]  Выполнен шаг 3: учтён дисбаланс\n",
    "    - [x]  Применено несколько способов борьбы с дисбалансом\n",
    "    - [x]  Написаны выводы по результатам исследования\n",
    "- [x]  Выполнен шаг 4: проведено тестирование\n",
    "- [x]  Удалось достичь *F1*-меры не менее 0.59\n",
    "- [x]  Исследована метрика *AUC-ROC*"
   ]
  },
  {
   "cell_type": "code",
   "execution_count": null,
   "metadata": {},
   "outputs": [],
   "source": []
  }
 ],
 "metadata": {
  "ExecuteTimeLog": [
   {
    "duration": 1473,
    "start_time": "2023-08-08T15:01:02.226Z"
   },
   {
    "duration": 199,
    "start_time": "2023-08-08T15:01:05.297Z"
   },
   {
    "duration": 37,
    "start_time": "2023-08-08T15:01:26.376Z"
   },
   {
    "duration": 21,
    "start_time": "2023-08-08T15:01:54.048Z"
   },
   {
    "duration": 18,
    "start_time": "2023-08-08T15:02:02.216Z"
   },
   {
    "duration": 2383,
    "start_time": "2023-08-08T15:08:15.054Z"
   },
   {
    "duration": 1581,
    "start_time": "2023-08-08T15:08:30.894Z"
   },
   {
    "duration": 1811,
    "start_time": "2023-08-08T15:11:08.797Z"
   },
   {
    "duration": 11,
    "start_time": "2023-08-08T15:11:37.150Z"
   },
   {
    "duration": 39,
    "start_time": "2023-08-08T15:12:45.939Z"
   },
   {
    "duration": 8,
    "start_time": "2023-08-08T15:13:01.651Z"
   },
   {
    "duration": 25,
    "start_time": "2023-08-08T15:16:30.256Z"
   },
   {
    "duration": 140,
    "start_time": "2023-08-08T15:18:00.811Z"
   },
   {
    "duration": 11,
    "start_time": "2023-08-08T15:19:37.298Z"
   },
   {
    "duration": 6,
    "start_time": "2023-08-08T15:21:21.699Z"
   },
   {
    "duration": 18,
    "start_time": "2023-08-08T15:21:34.533Z"
   },
   {
    "duration": 16,
    "start_time": "2023-08-08T15:21:40.623Z"
   },
   {
    "duration": 11,
    "start_time": "2023-08-08T15:21:52.610Z"
   },
   {
    "duration": 15,
    "start_time": "2023-08-08T15:21:53.716Z"
   },
   {
    "duration": 21,
    "start_time": "2023-08-08T15:22:22.333Z"
   },
   {
    "duration": 13,
    "start_time": "2023-08-08T15:22:42.598Z"
   },
   {
    "duration": 3,
    "start_time": "2023-08-08T15:22:58.755Z"
   },
   {
    "duration": 56,
    "start_time": "2023-08-08T15:22:59.260Z"
   },
   {
    "duration": 15,
    "start_time": "2023-08-08T15:22:59.734Z"
   },
   {
    "duration": 20,
    "start_time": "2023-08-08T15:23:01.144Z"
   },
   {
    "duration": 2093,
    "start_time": "2023-08-08T15:23:02.928Z"
   },
   {
    "duration": 9,
    "start_time": "2023-08-08T15:23:05.024Z"
   },
   {
    "duration": 28,
    "start_time": "2023-08-08T15:23:05.034Z"
   },
   {
    "duration": 16,
    "start_time": "2023-08-08T15:23:05.443Z"
   },
   {
    "duration": 12,
    "start_time": "2023-08-08T15:23:07.901Z"
   },
   {
    "duration": 4,
    "start_time": "2023-08-08T15:23:11.603Z"
   },
   {
    "duration": 9,
    "start_time": "2023-08-08T15:23:21.519Z"
   },
   {
    "duration": 10,
    "start_time": "2023-08-08T15:23:37.515Z"
   },
   {
    "duration": 4,
    "start_time": "2023-08-08T15:23:51.053Z"
   },
   {
    "duration": 45,
    "start_time": "2023-08-08T15:23:51.420Z"
   },
   {
    "duration": 22,
    "start_time": "2023-08-08T15:23:51.786Z"
   },
   {
    "duration": 12,
    "start_time": "2023-08-08T15:23:52.125Z"
   },
   {
    "duration": 2022,
    "start_time": "2023-08-08T15:23:52.488Z"
   },
   {
    "duration": 11,
    "start_time": "2023-08-08T15:23:54.514Z"
   },
   {
    "duration": 8,
    "start_time": "2023-08-08T15:23:54.528Z"
   },
   {
    "duration": 19,
    "start_time": "2023-08-08T15:23:54.539Z"
   },
   {
    "duration": 32,
    "start_time": "2023-08-08T15:23:54.571Z"
   },
   {
    "duration": 6,
    "start_time": "2023-08-08T15:23:55.104Z"
   },
   {
    "duration": 21,
    "start_time": "2023-08-08T15:23:56.888Z"
   },
   {
    "duration": 12,
    "start_time": "2023-08-08T15:24:47.400Z"
   },
   {
    "duration": 41,
    "start_time": "2023-08-08T15:24:51.837Z"
   },
   {
    "duration": 4,
    "start_time": "2023-08-08T15:24:57.801Z"
   },
   {
    "duration": 51,
    "start_time": "2023-08-08T15:24:58.185Z"
   },
   {
    "duration": 29,
    "start_time": "2023-08-08T15:24:58.560Z"
   },
   {
    "duration": 19,
    "start_time": "2023-08-08T15:24:59.000Z"
   },
   {
    "duration": 1712,
    "start_time": "2023-08-08T15:24:59.600Z"
   },
   {
    "duration": 9,
    "start_time": "2023-08-08T15:25:01.315Z"
   },
   {
    "duration": 107,
    "start_time": "2023-08-08T15:25:01.327Z"
   },
   {
    "duration": 157,
    "start_time": "2023-08-08T15:25:01.438Z"
   },
   {
    "duration": 81,
    "start_time": "2023-08-08T15:25:01.597Z"
   },
   {
    "duration": 64,
    "start_time": "2023-08-08T15:25:14.069Z"
   },
   {
    "duration": 8,
    "start_time": "2023-08-08T15:25:33.985Z"
   },
   {
    "duration": 27,
    "start_time": "2023-08-08T15:25:35.551Z"
   },
   {
    "duration": 2198,
    "start_time": "2023-08-08T15:27:52.950Z"
   },
   {
    "duration": 11,
    "start_time": "2023-08-08T15:31:53.605Z"
   },
   {
    "duration": 18,
    "start_time": "2023-08-08T15:32:03.140Z"
   },
   {
    "duration": 3,
    "start_time": "2023-08-08T15:32:17.940Z"
   },
   {
    "duration": 57,
    "start_time": "2023-08-08T15:32:18.356Z"
   },
   {
    "duration": 14,
    "start_time": "2023-08-08T15:32:18.733Z"
   },
   {
    "duration": 13,
    "start_time": "2023-08-08T15:32:19.132Z"
   },
   {
    "duration": 1797,
    "start_time": "2023-08-08T15:32:19.681Z"
   },
   {
    "duration": 16,
    "start_time": "2023-08-08T15:32:21.480Z"
   },
   {
    "duration": 8,
    "start_time": "2023-08-08T15:32:21.500Z"
   },
   {
    "duration": 17,
    "start_time": "2023-08-08T15:32:21.510Z"
   },
   {
    "duration": 11,
    "start_time": "2023-08-08T15:32:21.636Z"
   },
   {
    "duration": 52,
    "start_time": "2023-08-08T15:32:22.065Z"
   },
   {
    "duration": 4,
    "start_time": "2023-08-08T15:32:22.937Z"
   },
   {
    "duration": 17,
    "start_time": "2023-08-08T15:32:24.148Z"
   },
   {
    "duration": 26,
    "start_time": "2023-08-08T15:32:26.661Z"
   },
   {
    "duration": 14,
    "start_time": "2023-08-08T15:32:39.335Z"
   },
   {
    "duration": 7,
    "start_time": "2023-08-08T15:39:15.311Z"
   },
   {
    "duration": 7,
    "start_time": "2023-08-08T15:39:28.322Z"
   },
   {
    "duration": 8,
    "start_time": "2023-08-08T15:41:19.831Z"
   },
   {
    "duration": 5,
    "start_time": "2023-08-08T15:41:31.557Z"
   },
   {
    "duration": 6,
    "start_time": "2023-08-08T15:41:57.700Z"
   },
   {
    "duration": 7,
    "start_time": "2023-08-08T15:41:59.701Z"
   },
   {
    "duration": 9,
    "start_time": "2023-08-08T15:42:01.037Z"
   },
   {
    "duration": 5,
    "start_time": "2023-08-08T15:42:03.441Z"
   },
   {
    "duration": 5,
    "start_time": "2023-08-08T15:49:00.613Z"
   },
   {
    "duration": 44,
    "start_time": "2023-08-08T15:53:43.230Z"
   },
   {
    "duration": 36,
    "start_time": "2023-08-08T16:03:01.044Z"
   },
   {
    "duration": 17,
    "start_time": "2023-08-08T16:03:50.314Z"
   },
   {
    "duration": 52,
    "start_time": "2023-08-09T14:25:29.983Z"
   },
   {
    "duration": 1183,
    "start_time": "2023-08-09T14:25:35.788Z"
   },
   {
    "duration": 86,
    "start_time": "2023-08-09T14:25:36.974Z"
   },
   {
    "duration": 21,
    "start_time": "2023-08-09T14:25:38.758Z"
   },
   {
    "duration": 14,
    "start_time": "2023-08-09T14:25:39.753Z"
   },
   {
    "duration": 2084,
    "start_time": "2023-08-09T14:25:40.493Z"
   },
   {
    "duration": 8,
    "start_time": "2023-08-09T14:25:42.579Z"
   },
   {
    "duration": 25,
    "start_time": "2023-08-09T14:25:42.588Z"
   },
   {
    "duration": 12,
    "start_time": "2023-08-09T14:25:42.615Z"
   },
   {
    "duration": 12,
    "start_time": "2023-08-09T14:25:42.803Z"
   },
   {
    "duration": 44,
    "start_time": "2023-08-09T14:25:43.407Z"
   },
   {
    "duration": 6,
    "start_time": "2023-08-09T14:25:46.027Z"
   },
   {
    "duration": 12,
    "start_time": "2023-08-09T14:25:46.649Z"
   },
   {
    "duration": 10,
    "start_time": "2023-08-09T14:25:48.159Z"
   },
   {
    "duration": 12,
    "start_time": "2023-08-09T14:25:50.127Z"
   },
   {
    "duration": 7,
    "start_time": "2023-08-09T14:25:51.757Z"
   },
   {
    "duration": 6,
    "start_time": "2023-08-09T14:25:52.347Z"
   },
   {
    "duration": 8,
    "start_time": "2023-08-09T14:25:54.887Z"
   },
   {
    "duration": 5,
    "start_time": "2023-08-09T14:25:55.835Z"
   },
   {
    "duration": 19,
    "start_time": "2023-08-09T14:25:58.759Z"
   },
   {
    "duration": 60,
    "start_time": "2023-08-09T14:26:00.987Z"
   },
   {
    "duration": 147,
    "start_time": "2023-08-09T14:26:21.648Z"
   },
   {
    "duration": 426,
    "start_time": "2023-08-09T14:26:30.598Z"
   },
   {
    "duration": 170,
    "start_time": "2023-08-09T14:26:35.635Z"
   },
   {
    "duration": 2051,
    "start_time": "2023-08-09T14:34:14.472Z"
   },
   {
    "duration": 2108,
    "start_time": "2023-08-09T14:35:09.277Z"
   },
   {
    "duration": 4069,
    "start_time": "2023-08-09T14:35:21.343Z"
   },
   {
    "duration": 8270,
    "start_time": "2023-08-09T14:35:32.799Z"
   },
   {
    "duration": 12523,
    "start_time": "2023-08-09T14:35:48.794Z"
   },
   {
    "duration": 8377,
    "start_time": "2023-08-09T14:36:35.757Z"
   },
   {
    "duration": 40,
    "start_time": "2023-08-09T14:47:19.974Z"
   },
   {
    "duration": 20,
    "start_time": "2023-08-09T14:47:23.983Z"
   },
   {
    "duration": 22,
    "start_time": "2023-08-09T14:49:32.599Z"
   },
   {
    "duration": 18,
    "start_time": "2023-08-09T14:52:02.775Z"
   },
   {
    "duration": 108,
    "start_time": "2023-08-09T14:52:51.503Z"
   },
   {
    "duration": 56,
    "start_time": "2023-08-09T14:52:56.354Z"
   },
   {
    "duration": 26,
    "start_time": "2023-08-09T14:56:56.684Z"
   },
   {
    "duration": 39,
    "start_time": "2023-08-09T14:57:06.872Z"
   },
   {
    "duration": 86,
    "start_time": "2023-08-09T14:57:08.824Z"
   },
   {
    "duration": 20,
    "start_time": "2023-08-09T14:57:35.629Z"
   },
   {
    "duration": 17,
    "start_time": "2023-08-09T14:57:37.648Z"
   },
   {
    "duration": 89,
    "start_time": "2023-08-09T14:59:29.527Z"
   },
   {
    "duration": 17,
    "start_time": "2023-08-09T15:00:03.268Z"
   },
   {
    "duration": 17,
    "start_time": "2023-08-09T15:00:05.142Z"
   },
   {
    "duration": 17,
    "start_time": "2023-08-09T15:00:08.143Z"
   },
   {
    "duration": 178,
    "start_time": "2023-08-09T15:01:00.272Z"
   },
   {
    "duration": 160,
    "start_time": "2023-08-09T15:01:06.649Z"
   },
   {
    "duration": 9185,
    "start_time": "2023-08-09T15:01:36.209Z"
   },
   {
    "duration": 8884,
    "start_time": "2023-08-09T15:02:14.104Z"
   },
   {
    "duration": 8367,
    "start_time": "2023-08-09T15:02:37.654Z"
   },
   {
    "duration": 9278,
    "start_time": "2023-08-09T15:02:54.208Z"
   },
   {
    "duration": 81,
    "start_time": "2023-08-09T15:10:32.886Z"
   },
   {
    "duration": 12,
    "start_time": "2023-08-09T15:12:46.013Z"
   },
   {
    "duration": 8,
    "start_time": "2023-08-09T15:13:42.286Z"
   },
   {
    "duration": 1210,
    "start_time": "2023-08-10T13:20:42.782Z"
   },
   {
    "duration": 101,
    "start_time": "2023-08-10T13:20:43.994Z"
   },
   {
    "duration": 30,
    "start_time": "2023-08-10T13:20:44.097Z"
   },
   {
    "duration": 28,
    "start_time": "2023-08-10T13:20:44.129Z"
   },
   {
    "duration": 2353,
    "start_time": "2023-08-10T13:20:44.480Z"
   },
   {
    "duration": 9,
    "start_time": "2023-08-10T13:20:46.835Z"
   },
   {
    "duration": 19,
    "start_time": "2023-08-10T13:20:46.846Z"
   },
   {
    "duration": 18,
    "start_time": "2023-08-10T13:20:46.868Z"
   },
   {
    "duration": 31,
    "start_time": "2023-08-10T13:20:46.888Z"
   },
   {
    "duration": 46,
    "start_time": "2023-08-10T13:20:46.944Z"
   },
   {
    "duration": 4,
    "start_time": "2023-08-10T13:20:47.442Z"
   },
   {
    "duration": 13,
    "start_time": "2023-08-10T13:20:47.838Z"
   },
   {
    "duration": 13,
    "start_time": "2023-08-10T13:20:48.759Z"
   },
   {
    "duration": 12,
    "start_time": "2023-08-10T13:20:49.184Z"
   },
   {
    "duration": 13,
    "start_time": "2023-08-10T13:20:51.715Z"
   },
   {
    "duration": 6,
    "start_time": "2023-08-10T13:20:52.122Z"
   },
   {
    "duration": 10,
    "start_time": "2023-08-10T13:20:52.557Z"
   },
   {
    "duration": 5,
    "start_time": "2023-08-10T13:20:54.602Z"
   },
   {
    "duration": 24,
    "start_time": "2023-08-10T13:20:56.432Z"
   },
   {
    "duration": 191,
    "start_time": "2023-08-10T13:20:57.975Z"
   },
   {
    "duration": 189,
    "start_time": "2023-08-10T13:21:00.356Z"
   },
   {
    "duration": 9215,
    "start_time": "2023-08-10T13:21:02.116Z"
   },
   {
    "duration": 9350,
    "start_time": "2023-08-10T13:21:11.334Z"
   },
   {
    "duration": 34,
    "start_time": "2023-08-10T13:21:20.687Z"
   },
   {
    "duration": 179,
    "start_time": "2023-08-10T13:21:20.731Z"
   },
   {
    "duration": 9,
    "start_time": "2023-08-10T13:21:28.564Z"
   },
   {
    "duration": 7,
    "start_time": "2023-08-10T13:32:18.390Z"
   },
   {
    "duration": 8,
    "start_time": "2023-08-10T13:33:06.290Z"
   },
   {
    "duration": 5,
    "start_time": "2023-08-10T13:42:41.298Z"
   },
   {
    "duration": 44,
    "start_time": "2023-08-10T13:42:41.793Z"
   },
   {
    "duration": 14,
    "start_time": "2023-08-10T13:42:42.266Z"
   },
   {
    "duration": 19,
    "start_time": "2023-08-10T13:42:42.720Z"
   },
   {
    "duration": 1481,
    "start_time": "2023-08-10T13:42:43.242Z"
   },
   {
    "duration": 8,
    "start_time": "2023-08-10T13:42:44.727Z"
   },
   {
    "duration": 44,
    "start_time": "2023-08-10T13:42:44.736Z"
   },
   {
    "duration": 15,
    "start_time": "2023-08-10T13:42:44.783Z"
   },
   {
    "duration": 10,
    "start_time": "2023-08-10T13:42:45.227Z"
   },
   {
    "duration": 156,
    "start_time": "2023-08-10T13:42:45.732Z"
   },
   {
    "duration": 5,
    "start_time": "2023-08-10T13:42:46.262Z"
   },
   {
    "duration": 12,
    "start_time": "2023-08-10T13:42:47.341Z"
   },
   {
    "duration": 11,
    "start_time": "2023-08-10T13:42:48.319Z"
   },
   {
    "duration": 13,
    "start_time": "2023-08-10T13:42:48.770Z"
   },
   {
    "duration": 6,
    "start_time": "2023-08-10T13:42:51.163Z"
   },
   {
    "duration": 5,
    "start_time": "2023-08-10T13:42:51.581Z"
   },
   {
    "duration": 11,
    "start_time": "2023-08-10T13:42:52.026Z"
   },
   {
    "duration": 6,
    "start_time": "2023-08-10T13:43:22.820Z"
   },
   {
    "duration": 6,
    "start_time": "2023-08-10T13:43:23.423Z"
   },
   {
    "duration": 6,
    "start_time": "2023-08-10T13:43:24.187Z"
   },
   {
    "duration": 9,
    "start_time": "2023-08-10T13:43:24.787Z"
   },
   {
    "duration": 5,
    "start_time": "2023-08-10T13:43:25.323Z"
   },
   {
    "duration": 20,
    "start_time": "2023-08-10T13:43:26.005Z"
   },
   {
    "duration": 7,
    "start_time": "2023-08-10T13:43:31.077Z"
   },
   {
    "duration": 33,
    "start_time": "2023-08-10T13:43:35.503Z"
   },
   {
    "duration": 157,
    "start_time": "2023-08-10T13:43:36.635Z"
   },
   {
    "duration": 166,
    "start_time": "2023-08-10T13:43:37.168Z"
   },
   {
    "duration": 8607,
    "start_time": "2023-08-10T13:43:38.111Z"
   },
   {
    "duration": 9205,
    "start_time": "2023-08-10T13:43:46.724Z"
   },
   {
    "duration": 100,
    "start_time": "2023-08-10T13:43:55.933Z"
   },
   {
    "duration": 179,
    "start_time": "2023-08-10T13:43:56.041Z"
   },
   {
    "duration": 96,
    "start_time": "2023-08-10T13:43:56.228Z"
   },
   {
    "duration": 5,
    "start_time": "2023-08-10T13:43:56.328Z"
   },
   {
    "duration": 122,
    "start_time": "2023-08-10T13:56:00.879Z"
   },
   {
    "duration": 22,
    "start_time": "2023-08-10T13:56:21.112Z"
   },
   {
    "duration": 7,
    "start_time": "2023-08-10T13:56:40.706Z"
   },
   {
    "duration": 46,
    "start_time": "2023-08-10T13:56:41.117Z"
   },
   {
    "duration": 17,
    "start_time": "2023-08-10T13:56:41.505Z"
   },
   {
    "duration": 13,
    "start_time": "2023-08-10T13:56:42.090Z"
   },
   {
    "duration": 1416,
    "start_time": "2023-08-10T13:56:42.422Z"
   },
   {
    "duration": 7,
    "start_time": "2023-08-10T13:56:43.840Z"
   },
   {
    "duration": 8,
    "start_time": "2023-08-10T13:56:43.848Z"
   },
   {
    "duration": 13,
    "start_time": "2023-08-10T13:56:43.858Z"
   },
   {
    "duration": 13,
    "start_time": "2023-08-10T13:56:43.872Z"
   },
   {
    "duration": 53,
    "start_time": "2023-08-10T13:56:43.983Z"
   },
   {
    "duration": 11,
    "start_time": "2023-08-10T13:56:44.210Z"
   },
   {
    "duration": 12,
    "start_time": "2023-08-10T13:56:44.567Z"
   },
   {
    "duration": 10,
    "start_time": "2023-08-10T13:56:45.187Z"
   },
   {
    "duration": 12,
    "start_time": "2023-08-10T13:56:45.571Z"
   },
   {
    "duration": 7,
    "start_time": "2023-08-10T13:56:46.171Z"
   },
   {
    "duration": 6,
    "start_time": "2023-08-10T13:56:46.397Z"
   },
   {
    "duration": 6,
    "start_time": "2023-08-10T13:56:46.727Z"
   },
   {
    "duration": 10,
    "start_time": "2023-08-10T13:56:46.990Z"
   },
   {
    "duration": 4,
    "start_time": "2023-08-10T13:56:47.331Z"
   },
   {
    "duration": 6,
    "start_time": "2023-08-10T13:56:47.671Z"
   },
   {
    "duration": 7,
    "start_time": "2023-08-10T13:56:47.971Z"
   },
   {
    "duration": 18,
    "start_time": "2023-08-10T13:56:49.367Z"
   },
   {
    "duration": 159,
    "start_time": "2023-08-10T13:56:50.292Z"
   },
   {
    "duration": 177,
    "start_time": "2023-08-10T13:56:50.806Z"
   },
   {
    "duration": 8598,
    "start_time": "2023-08-10T13:56:51.759Z"
   },
   {
    "duration": 9319,
    "start_time": "2023-08-10T13:57:00.359Z"
   },
   {
    "duration": 38,
    "start_time": "2023-08-10T13:57:09.680Z"
   },
   {
    "duration": 93,
    "start_time": "2023-08-10T13:57:09.721Z"
   },
   {
    "duration": 102,
    "start_time": "2023-08-10T13:57:09.816Z"
   },
   {
    "duration": 110,
    "start_time": "2023-08-10T13:57:09.921Z"
   },
   {
    "duration": 21,
    "start_time": "2023-08-10T13:57:10.034Z"
   },
   {
    "duration": 19,
    "start_time": "2023-08-10T13:57:40.071Z"
   },
   {
    "duration": 4,
    "start_time": "2023-08-10T13:59:22.733Z"
   },
   {
    "duration": 17,
    "start_time": "2023-08-10T13:59:42.432Z"
   },
   {
    "duration": 4,
    "start_time": "2023-08-10T13:59:57.632Z"
   },
   {
    "duration": 17,
    "start_time": "2023-08-10T13:59:58.167Z"
   },
   {
    "duration": 5,
    "start_time": "2023-08-10T14:00:37.037Z"
   },
   {
    "duration": 5,
    "start_time": "2023-08-10T14:00:43.373Z"
   },
   {
    "duration": 10,
    "start_time": "2023-08-10T14:00:44.126Z"
   },
   {
    "duration": 4,
    "start_time": "2023-08-10T17:19:40.983Z"
   },
   {
    "duration": 56,
    "start_time": "2023-08-10T17:19:41.284Z"
   },
   {
    "duration": 18,
    "start_time": "2023-08-10T17:19:41.579Z"
   },
   {
    "duration": 17,
    "start_time": "2023-08-10T17:19:41.875Z"
   },
   {
    "duration": 2282,
    "start_time": "2023-08-10T17:19:42.174Z"
   },
   {
    "duration": 10,
    "start_time": "2023-08-10T17:19:44.464Z"
   },
   {
    "duration": 30,
    "start_time": "2023-08-10T17:19:44.476Z"
   },
   {
    "duration": 74,
    "start_time": "2023-08-10T17:19:44.509Z"
   },
   {
    "duration": 15,
    "start_time": "2023-08-10T17:19:44.586Z"
   },
   {
    "duration": 77,
    "start_time": "2023-08-10T17:19:44.603Z"
   },
   {
    "duration": 9,
    "start_time": "2023-08-10T17:19:44.683Z"
   },
   {
    "duration": 25,
    "start_time": "2023-08-10T17:19:44.694Z"
   },
   {
    "duration": 16,
    "start_time": "2023-08-10T17:19:45.080Z"
   },
   {
    "duration": 21,
    "start_time": "2023-08-10T17:19:45.449Z"
   },
   {
    "duration": 17,
    "start_time": "2023-08-10T17:19:46.098Z"
   },
   {
    "duration": 16,
    "start_time": "2023-08-10T17:19:46.549Z"
   },
   {
    "duration": 7,
    "start_time": "2023-08-10T17:19:46.984Z"
   },
   {
    "duration": 16,
    "start_time": "2023-08-10T17:19:47.402Z"
   },
   {
    "duration": 7,
    "start_time": "2023-08-10T17:19:47.834Z"
   },
   {
    "duration": 9,
    "start_time": "2023-08-10T17:19:48.271Z"
   },
   {
    "duration": 6,
    "start_time": "2023-08-10T17:19:48.771Z"
   },
   {
    "duration": 38,
    "start_time": "2023-08-10T17:19:50.246Z"
   },
   {
    "duration": 213,
    "start_time": "2023-08-10T17:19:51.370Z"
   },
   {
    "duration": 258,
    "start_time": "2023-08-10T17:19:51.813Z"
   },
   {
    "duration": 10516,
    "start_time": "2023-08-10T17:19:52.483Z"
   },
   {
    "duration": 10566,
    "start_time": "2023-08-10T17:20:03.002Z"
   },
   {
    "duration": 44,
    "start_time": "2023-08-10T17:20:13.570Z"
   },
   {
    "duration": 152,
    "start_time": "2023-08-10T17:20:13.619Z"
   },
   {
    "duration": 158,
    "start_time": "2023-08-10T17:20:13.815Z"
   },
   {
    "duration": 10,
    "start_time": "2023-08-10T17:20:13.975Z"
   },
   {
    "duration": 94,
    "start_time": "2023-08-10T17:20:13.987Z"
   },
   {
    "duration": 22,
    "start_time": "2023-08-10T17:20:14.083Z"
   },
   {
    "duration": 12,
    "start_time": "2023-08-10T17:21:08.633Z"
   },
   {
    "duration": 8,
    "start_time": "2023-08-10T17:21:19.203Z"
   },
   {
    "duration": 19,
    "start_time": "2023-08-10T17:22:55.942Z"
   },
   {
    "duration": 6181,
    "start_time": "2023-08-10T19:01:19.676Z"
   },
   {
    "duration": 11044,
    "start_time": "2023-08-10T19:03:23.637Z"
   },
   {
    "duration": 235,
    "start_time": "2023-08-10T19:04:33.589Z"
   },
   {
    "duration": 56,
    "start_time": "2023-08-10T19:05:48.171Z"
   },
   {
    "duration": 161,
    "start_time": "2023-08-10T19:07:36.503Z"
   },
   {
    "duration": 5941,
    "start_time": "2023-08-10T19:08:20.405Z"
   },
   {
    "duration": 70,
    "start_time": "2023-08-10T19:08:57.731Z"
   },
   {
    "duration": 685,
    "start_time": "2023-08-10T19:12:25.275Z"
   },
   {
    "duration": 18895,
    "start_time": "2023-08-10T19:12:33.438Z"
   },
   {
    "duration": 27519,
    "start_time": "2023-08-10T19:12:57.972Z"
   },
   {
    "duration": 99045,
    "start_time": "2023-08-10T19:14:02.681Z"
   },
   {
    "duration": 1516,
    "start_time": "2023-08-10T19:16:03.290Z"
   },
   {
    "duration": 618,
    "start_time": "2023-08-10T19:16:32.934Z"
   },
   {
    "duration": 41541,
    "start_time": "2023-08-10T19:16:40.834Z"
   },
   {
    "duration": 159864,
    "start_time": "2023-08-10T19:22:49.093Z"
   },
   {
    "duration": 71403,
    "start_time": "2023-08-10T19:25:28.959Z"
   },
   {
    "duration": 344,
    "start_time": "2023-08-10T19:27:25.498Z"
   },
   {
    "duration": 614,
    "start_time": "2023-08-10T19:28:38.135Z"
   },
   {
    "duration": 6,
    "start_time": "2023-08-10T19:47:36.837Z"
   },
   {
    "duration": 57,
    "start_time": "2023-08-10T19:47:38.037Z"
   },
   {
    "duration": 22,
    "start_time": "2023-08-10T19:47:38.801Z"
   },
   {
    "duration": 13,
    "start_time": "2023-08-10T19:47:39.280Z"
   },
   {
    "duration": 1809,
    "start_time": "2023-08-10T19:47:39.851Z"
   },
   {
    "duration": 8,
    "start_time": "2023-08-10T19:47:41.662Z"
   },
   {
    "duration": 11,
    "start_time": "2023-08-10T19:47:41.671Z"
   },
   {
    "duration": 35,
    "start_time": "2023-08-10T19:47:41.684Z"
   },
   {
    "duration": 38,
    "start_time": "2023-08-10T19:47:41.727Z"
   },
   {
    "duration": 49,
    "start_time": "2023-08-10T19:47:42.130Z"
   },
   {
    "duration": 9,
    "start_time": "2023-08-10T19:47:42.532Z"
   },
   {
    "duration": 12,
    "start_time": "2023-08-10T19:47:43.150Z"
   },
   {
    "duration": 10,
    "start_time": "2023-08-10T19:47:44.094Z"
   },
   {
    "duration": 12,
    "start_time": "2023-08-10T19:47:44.559Z"
   },
   {
    "duration": 6,
    "start_time": "2023-08-10T19:47:45.600Z"
   },
   {
    "duration": 7,
    "start_time": "2023-08-10T19:47:46.081Z"
   },
   {
    "duration": 6,
    "start_time": "2023-08-10T19:47:46.490Z"
   },
   {
    "duration": 8,
    "start_time": "2023-08-10T19:47:46.888Z"
   },
   {
    "duration": 4,
    "start_time": "2023-08-10T19:47:47.358Z"
   },
   {
    "duration": 5,
    "start_time": "2023-08-10T19:47:48.263Z"
   },
   {
    "duration": 10,
    "start_time": "2023-08-10T19:47:48.728Z"
   },
   {
    "duration": 18,
    "start_time": "2023-08-10T19:47:50.358Z"
   },
   {
    "duration": 172,
    "start_time": "2023-08-10T19:47:51.949Z"
   },
   {
    "duration": 206,
    "start_time": "2023-08-10T19:47:52.527Z"
   },
   {
    "duration": 9366,
    "start_time": "2023-08-10T19:47:57.772Z"
   },
   {
    "duration": 9757,
    "start_time": "2023-08-10T19:48:07.141Z"
   },
   {
    "duration": 29,
    "start_time": "2023-08-10T19:48:16.900Z"
   },
   {
    "duration": 188,
    "start_time": "2023-08-10T19:48:16.931Z"
   },
   {
    "duration": 530,
    "start_time": "2023-08-10T20:35:48.805Z"
   },
   {
    "duration": 130007,
    "start_time": "2023-08-10T20:36:00.530Z"
   },
   {
    "duration": 10021,
    "start_time": "2023-08-10T20:38:10.540Z"
   },
   {
    "duration": 78,
    "start_time": "2023-08-10T20:38:20.563Z"
   },
   {
    "duration": 162,
    "start_time": "2023-08-10T20:38:20.650Z"
   },
   {
    "duration": 12,
    "start_time": "2023-08-10T20:44:45.326Z"
   },
   {
    "duration": 5,
    "start_time": "2023-08-10T20:44:49.338Z"
   },
   {
    "duration": 7,
    "start_time": "2023-08-10T20:44:49.890Z"
   },
   {
    "duration": 5,
    "start_time": "2023-08-10T20:44:50.947Z"
   },
   {
    "duration": 7,
    "start_time": "2023-08-10T20:44:54.104Z"
   },
   {
    "duration": 1308,
    "start_time": "2023-08-10T20:44:54.634Z"
   },
   {
    "duration": 131438,
    "start_time": "2023-08-10T20:45:01.843Z"
   },
   {
    "duration": 42,
    "start_time": "2023-08-10T20:47:13.283Z"
   },
   {
    "duration": 282,
    "start_time": "2023-08-10T20:47:13.408Z"
   },
   {
    "duration": 252,
    "start_time": "2023-08-10T20:47:59.441Z"
   },
   {
    "duration": 59074,
    "start_time": "2023-08-10T20:48:00.575Z"
   },
   {
    "duration": 64,
    "start_time": "2023-08-10T20:48:59.651Z"
   },
   {
    "duration": 85,
    "start_time": "2023-08-10T20:48:59.730Z"
   },
   {
    "duration": 430,
    "start_time": "2023-08-10T20:48:59.820Z"
   },
   {
    "duration": 23,
    "start_time": "2023-08-10T20:49:00.252Z"
   },
   {
    "duration": 17,
    "start_time": "2023-08-10T20:49:00.277Z"
   },
   {
    "duration": 13,
    "start_time": "2023-08-10T20:50:57.061Z"
   },
   {
    "duration": 12,
    "start_time": "2023-08-10T20:51:25.940Z"
   },
   {
    "duration": 88013,
    "start_time": "2023-08-10T20:51:37.306Z"
   },
   {
    "duration": 4,
    "start_time": "2023-08-10T20:54:59.370Z"
   },
   {
    "duration": 1034,
    "start_time": "2023-08-10T20:55:00.102Z"
   },
   {
    "duration": 68,
    "start_time": "2023-08-10T20:55:01.256Z"
   },
   {
    "duration": 7,
    "start_time": "2023-08-10T20:55:03.743Z"
   },
   {
    "duration": 3,
    "start_time": "2023-08-10T20:55:33.188Z"
   },
   {
    "duration": 347,
    "start_time": "2023-08-10T20:55:33.692Z"
   },
   {
    "duration": 23,
    "start_time": "2023-08-10T20:55:34.176Z"
   },
   {
    "duration": 7,
    "start_time": "2023-08-10T20:55:35.783Z"
   },
   {
    "duration": 3,
    "start_time": "2023-08-10T20:55:54.076Z"
   },
   {
    "duration": 33,
    "start_time": "2023-08-10T20:55:54.523Z"
   },
   {
    "duration": 8,
    "start_time": "2023-08-10T20:55:54.931Z"
   },
   {
    "duration": 5,
    "start_time": "2023-08-10T20:55:55.426Z"
   },
   {
    "duration": 3,
    "start_time": "2023-08-10T20:57:20.407Z"
   },
   {
    "duration": 41,
    "start_time": "2023-08-10T20:57:20.886Z"
   },
   {
    "duration": 7,
    "start_time": "2023-08-10T20:57:21.336Z"
   },
   {
    "duration": 6,
    "start_time": "2023-08-10T20:57:21.866Z"
   },
   {
    "duration": 1398,
    "start_time": "2023-08-11T05:41:58.537Z"
   },
   {
    "duration": 114,
    "start_time": "2023-08-11T05:41:59.938Z"
   },
   {
    "duration": 26,
    "start_time": "2023-08-11T05:42:00.055Z"
   },
   {
    "duration": 25,
    "start_time": "2023-08-11T05:42:00.083Z"
   },
   {
    "duration": 2060,
    "start_time": "2023-08-11T05:42:00.110Z"
   },
   {
    "duration": 12,
    "start_time": "2023-08-11T05:42:02.173Z"
   },
   {
    "duration": 79,
    "start_time": "2023-08-11T05:42:02.187Z"
   },
   {
    "duration": 53,
    "start_time": "2023-08-11T05:42:02.268Z"
   },
   {
    "duration": 44,
    "start_time": "2023-08-11T05:42:02.323Z"
   },
   {
    "duration": 135,
    "start_time": "2023-08-11T05:42:02.370Z"
   },
   {
    "duration": 12,
    "start_time": "2023-08-11T05:42:02.518Z"
   },
   {
    "duration": 16,
    "start_time": "2023-08-11T05:42:02.744Z"
   },
   {
    "duration": 12,
    "start_time": "2023-08-11T05:42:03.576Z"
   },
   {
    "duration": 16,
    "start_time": "2023-08-11T05:42:03.928Z"
   },
   {
    "duration": 8,
    "start_time": "2023-08-11T05:42:04.738Z"
   },
   {
    "duration": 7,
    "start_time": "2023-08-11T05:42:05.184Z"
   },
   {
    "duration": 8,
    "start_time": "2023-08-11T05:42:05.568Z"
   },
   {
    "duration": 10,
    "start_time": "2023-08-11T05:42:05.956Z"
   },
   {
    "duration": 5,
    "start_time": "2023-08-11T05:42:06.404Z"
   },
   {
    "duration": 8,
    "start_time": "2023-08-11T05:42:06.826Z"
   },
   {
    "duration": 6,
    "start_time": "2023-08-11T05:42:07.336Z"
   },
   {
    "duration": 35,
    "start_time": "2023-08-11T05:42:08.796Z"
   },
   {
    "duration": 180,
    "start_time": "2023-08-11T05:42:09.776Z"
   },
   {
    "duration": 14,
    "start_time": "2023-08-11T05:42:21.799Z"
   },
   {
    "duration": 57,
    "start_time": "2023-08-11T05:42:22.896Z"
   },
   {
    "duration": 18,
    "start_time": "2023-08-11T05:42:23.429Z"
   },
   {
    "duration": 15,
    "start_time": "2023-08-11T05:42:24.029Z"
   },
   {
    "duration": 1935,
    "start_time": "2023-08-11T05:42:24.534Z"
   },
   {
    "duration": 9,
    "start_time": "2023-08-11T05:42:26.472Z"
   },
   {
    "duration": 57,
    "start_time": "2023-08-11T05:42:26.483Z"
   },
   {
    "duration": 50,
    "start_time": "2023-08-11T05:42:26.543Z"
   },
   {
    "duration": 16,
    "start_time": "2023-08-11T05:42:26.660Z"
   },
   {
    "duration": 53,
    "start_time": "2023-08-11T05:42:27.171Z"
   },
   {
    "duration": 8,
    "start_time": "2023-08-11T05:42:27.841Z"
   },
   {
    "duration": 12,
    "start_time": "2023-08-11T05:42:28.947Z"
   },
   {
    "duration": 12,
    "start_time": "2023-08-11T05:42:30.361Z"
   },
   {
    "duration": 16,
    "start_time": "2023-08-11T05:42:30.957Z"
   },
   {
    "duration": 6,
    "start_time": "2023-08-11T05:42:32.389Z"
   },
   {
    "duration": 9,
    "start_time": "2023-08-11T05:42:33.049Z"
   },
   {
    "duration": 6,
    "start_time": "2023-08-11T05:42:33.452Z"
   },
   {
    "duration": 8,
    "start_time": "2023-08-11T05:42:34.013Z"
   },
   {
    "duration": 4,
    "start_time": "2023-08-11T05:42:34.564Z"
   },
   {
    "duration": 10,
    "start_time": "2023-08-11T05:42:35.453Z"
   },
   {
    "duration": 12,
    "start_time": "2023-08-11T05:42:38.842Z"
   },
   {
    "duration": 21,
    "start_time": "2023-08-11T05:42:40.856Z"
   },
   {
    "duration": 31,
    "start_time": "2023-08-11T05:42:42.517Z"
   },
   {
    "duration": 30,
    "start_time": "2023-08-11T05:43:17.400Z"
   },
   {
    "duration": 4,
    "start_time": "2023-08-11T05:44:24.446Z"
   },
   {
    "duration": 87,
    "start_time": "2023-08-11T05:44:26.298Z"
   },
   {
    "duration": 16,
    "start_time": "2023-08-11T05:44:26.746Z"
   },
   {
    "duration": 15,
    "start_time": "2023-08-11T05:44:27.147Z"
   },
   {
    "duration": 2013,
    "start_time": "2023-08-11T05:44:27.574Z"
   },
   {
    "duration": 16,
    "start_time": "2023-08-11T05:44:29.589Z"
   },
   {
    "duration": 54,
    "start_time": "2023-08-11T05:44:29.606Z"
   },
   {
    "duration": 48,
    "start_time": "2023-08-11T05:44:29.663Z"
   },
   {
    "duration": 100,
    "start_time": "2023-08-11T05:44:29.713Z"
   },
   {
    "duration": 93,
    "start_time": "2023-08-11T05:44:29.837Z"
   },
   {
    "duration": 7,
    "start_time": "2023-08-11T05:44:30.295Z"
   },
   {
    "duration": 16,
    "start_time": "2023-08-11T05:44:30.857Z"
   },
   {
    "duration": 12,
    "start_time": "2023-08-11T05:44:31.814Z"
   },
   {
    "duration": 18,
    "start_time": "2023-08-11T05:44:32.250Z"
   },
   {
    "duration": 7,
    "start_time": "2023-08-11T05:44:33.056Z"
   },
   {
    "duration": 7,
    "start_time": "2023-08-11T05:44:33.490Z"
   },
   {
    "duration": 10,
    "start_time": "2023-08-11T05:44:33.942Z"
   },
   {
    "duration": 10,
    "start_time": "2023-08-11T05:44:34.359Z"
   },
   {
    "duration": 8,
    "start_time": "2023-08-11T05:44:34.858Z"
   },
   {
    "duration": 6,
    "start_time": "2023-08-11T05:44:35.357Z"
   },
   {
    "duration": 11,
    "start_time": "2023-08-11T05:44:36.107Z"
   },
   {
    "duration": 33,
    "start_time": "2023-08-11T05:44:39.371Z"
   },
   {
    "duration": 209,
    "start_time": "2023-08-11T05:44:41.943Z"
   },
   {
    "duration": 151567,
    "start_time": "2023-08-11T05:44:46.152Z"
   },
   {
    "duration": 30,
    "start_time": "2023-08-11T05:49:38.057Z"
   },
   {
    "duration": 34,
    "start_time": "2023-08-11T05:49:38.933Z"
   },
   {
    "duration": 9,
    "start_time": "2023-08-11T05:49:43.463Z"
   },
   {
    "duration": 4,
    "start_time": "2023-08-11T05:49:50.650Z"
   },
   {
    "duration": 7,
    "start_time": "2023-08-11T05:49:51.389Z"
   },
   {
    "duration": 5,
    "start_time": "2023-08-11T05:49:55.843Z"
   },
   {
    "duration": 7,
    "start_time": "2023-08-11T05:49:56.380Z"
   },
   {
    "duration": 1455,
    "start_time": "2023-08-11T05:50:53.491Z"
   },
   {
    "duration": 151728,
    "start_time": "2023-08-11T05:51:07.031Z"
   },
   {
    "duration": 33,
    "start_time": "2023-08-11T07:09:27.039Z"
   },
   {
    "duration": 212,
    "start_time": "2023-08-11T07:09:57.320Z"
   },
   {
    "duration": 47838,
    "start_time": "2023-08-11T07:10:00.414Z"
   },
   {
    "duration": 47,
    "start_time": "2023-08-11T07:10:48.254Z"
   },
   {
    "duration": 41,
    "start_time": "2023-08-11T07:11:06.414Z"
   },
   {
    "duration": 368,
    "start_time": "2023-08-11T07:11:37.189Z"
   },
   {
    "duration": 338,
    "start_time": "2023-08-11T07:13:36.209Z"
   },
   {
    "duration": 339,
    "start_time": "2023-08-11T07:18:24.663Z"
   },
   {
    "duration": 334,
    "start_time": "2023-08-11T07:18:56.854Z"
   },
   {
    "duration": 118205,
    "start_time": "2023-08-11T07:19:24.569Z"
   },
   {
    "duration": 417,
    "start_time": "2023-08-11T12:47:48.200Z"
   },
   {
    "duration": 109353,
    "start_time": "2023-08-11T12:48:18.652Z"
   },
   {
    "duration": 20,
    "start_time": "2023-08-11T12:51:19.401Z"
   },
   {
    "duration": 13,
    "start_time": "2023-08-11T12:51:19.769Z"
   },
   {
    "duration": 7,
    "start_time": "2023-08-11T12:51:25.877Z"
   },
   {
    "duration": 4,
    "start_time": "2023-08-11T12:51:46.215Z"
   },
   {
    "duration": 5,
    "start_time": "2023-08-11T12:51:46.934Z"
   },
   {
    "duration": 3,
    "start_time": "2023-08-11T12:51:47.697Z"
   },
   {
    "duration": 6,
    "start_time": "2023-08-11T12:51:49.897Z"
   },
   {
    "duration": 1298,
    "start_time": "2023-08-11T12:52:15.961Z"
   },
   {
    "duration": 90,
    "start_time": "2023-08-11T12:53:00.632Z"
   },
   {
    "duration": 116323,
    "start_time": "2023-08-11T12:53:51.101Z"
   },
   {
    "duration": 209,
    "start_time": "2023-08-11T12:56:12.601Z"
   },
   {
    "duration": 215,
    "start_time": "2023-08-11T12:56:21.431Z"
   },
   {
    "duration": 50173,
    "start_time": "2023-08-11T12:56:33.720Z"
   },
   {
    "duration": 81,
    "start_time": "2023-08-11T12:57:27.925Z"
   },
   {
    "duration": 366,
    "start_time": "2023-08-11T12:57:37.532Z"
   },
   {
    "duration": 353,
    "start_time": "2023-08-11T12:58:22.820Z"
   },
   {
    "duration": 24,
    "start_time": "2023-08-11T13:06:50.619Z"
   },
   {
    "duration": 22,
    "start_time": "2023-08-11T13:07:15.648Z"
   },
   {
    "duration": 11,
    "start_time": "2023-08-11T13:09:42.000Z"
   },
   {
    "duration": 4,
    "start_time": "2023-08-11T13:10:24.144Z"
   },
   {
    "duration": 107,
    "start_time": "2023-08-11T13:10:32.477Z"
   },
   {
    "duration": 102,
    "start_time": "2023-08-11T13:11:28.172Z"
   },
   {
    "duration": 126,
    "start_time": "2023-08-11T13:15:16.135Z"
   },
   {
    "duration": 1512,
    "start_time": "2023-08-15T16:35:16.826Z"
   },
   {
    "duration": 166,
    "start_time": "2023-08-15T16:35:21.095Z"
   },
   {
    "duration": 20,
    "start_time": "2023-08-15T16:35:24.105Z"
   },
   {
    "duration": 14,
    "start_time": "2023-08-15T16:39:14.237Z"
   },
   {
    "duration": 1430,
    "start_time": "2023-08-15T16:39:16.623Z"
   },
   {
    "duration": 21,
    "start_time": "2023-08-15T16:39:54.600Z"
   },
   {
    "duration": 21,
    "start_time": "2023-08-15T16:42:21.259Z"
   },
   {
    "duration": 1386,
    "start_time": "2023-08-15T17:01:23.770Z"
   },
   {
    "duration": 48,
    "start_time": "2023-08-15T17:03:45.010Z"
   },
   {
    "duration": 37,
    "start_time": "2023-08-15T17:36:39.045Z"
   },
   {
    "duration": 10,
    "start_time": "2023-08-15T17:54:09.392Z"
   },
   {
    "duration": 1414,
    "start_time": "2023-08-15T18:09:44.528Z"
   },
   {
    "duration": 111,
    "start_time": "2023-08-15T18:11:27.229Z"
   },
   {
    "duration": 7,
    "start_time": "2023-08-15T18:11:43.654Z"
   },
   {
    "duration": 4,
    "start_time": "2023-08-15T18:11:46.558Z"
   },
   {
    "duration": 1346,
    "start_time": "2023-08-15T18:12:10.398Z"
   },
   {
    "duration": 1344,
    "start_time": "2023-08-15T18:12:21.108Z"
   },
   {
    "duration": 1398,
    "start_time": "2023-08-15T18:12:36.867Z"
   },
   {
    "duration": 1472,
    "start_time": "2023-08-15T18:12:41.417Z"
   },
   {
    "duration": 8,
    "start_time": "2023-08-15T18:12:54.807Z"
   },
   {
    "duration": 4,
    "start_time": "2023-08-15T18:13:02.295Z"
   },
   {
    "duration": 39,
    "start_time": "2023-08-15T18:13:02.767Z"
   },
   {
    "duration": 18,
    "start_time": "2023-08-15T18:13:03.159Z"
   },
   {
    "duration": 20,
    "start_time": "2023-08-15T18:13:03.857Z"
   },
   {
    "duration": 1378,
    "start_time": "2023-08-15T18:13:04.816Z"
   },
   {
    "duration": 39,
    "start_time": "2023-08-15T18:13:06.195Z"
   },
   {
    "duration": 19,
    "start_time": "2023-08-15T18:13:07.062Z"
   },
   {
    "duration": 8,
    "start_time": "2023-08-15T18:13:08.989Z"
   },
   {
    "duration": 5,
    "start_time": "2023-08-15T18:13:10.525Z"
   },
   {
    "duration": 12,
    "start_time": "2023-08-15T18:13:11.457Z"
   },
   {
    "duration": 3,
    "start_time": "2023-08-15T18:13:17.915Z"
   },
   {
    "duration": 1341,
    "start_time": "2023-08-15T18:13:18.544Z"
   },
   {
    "duration": 1375,
    "start_time": "2023-08-15T18:20:06.470Z"
   },
   {
    "duration": 1404,
    "start_time": "2023-08-15T19:09:03.529Z"
   },
   {
    "duration": 11,
    "start_time": "2023-08-15T19:09:17.030Z"
   },
   {
    "duration": 4,
    "start_time": "2023-08-15T19:10:11.883Z"
   },
   {
    "duration": 4,
    "start_time": "2023-08-15T19:12:27.957Z"
   },
   {
    "duration": 1449,
    "start_time": "2023-08-15T19:13:30.268Z"
   },
   {
    "duration": 1414,
    "start_time": "2023-08-15T19:14:32.746Z"
   },
   {
    "duration": 5,
    "start_time": "2023-08-15T19:14:41.891Z"
   },
   {
    "duration": 38,
    "start_time": "2023-08-15T19:14:42.299Z"
   },
   {
    "duration": 13,
    "start_time": "2023-08-15T19:14:42.707Z"
   },
   {
    "duration": 17,
    "start_time": "2023-08-15T19:14:43.472Z"
   },
   {
    "duration": 1602,
    "start_time": "2023-08-15T19:14:44.306Z"
   },
   {
    "duration": 39,
    "start_time": "2023-08-15T19:14:45.911Z"
   },
   {
    "duration": 19,
    "start_time": "2023-08-15T19:14:46.597Z"
   },
   {
    "duration": 12,
    "start_time": "2023-08-15T19:14:48.387Z"
   },
   {
    "duration": 6,
    "start_time": "2023-08-15T19:14:49.541Z"
   },
   {
    "duration": 11,
    "start_time": "2023-08-15T19:14:50.250Z"
   },
   {
    "duration": 4,
    "start_time": "2023-08-15T19:14:52.965Z"
   },
   {
    "duration": 4,
    "start_time": "2023-08-15T19:14:56.735Z"
   },
   {
    "duration": 11,
    "start_time": "2023-08-15T19:15:05.722Z"
   },
   {
    "duration": 10,
    "start_time": "2023-08-15T19:15:11.126Z"
   },
   {
    "duration": 1580,
    "start_time": "2023-08-15T19:15:31.842Z"
   },
   {
    "duration": 6,
    "start_time": "2023-08-15T19:15:40.246Z"
   },
   {
    "duration": 52,
    "start_time": "2023-08-15T19:15:40.595Z"
   },
   {
    "duration": 13,
    "start_time": "2023-08-15T19:15:40.915Z"
   },
   {
    "duration": 14,
    "start_time": "2023-08-15T19:15:41.697Z"
   },
   {
    "duration": 1544,
    "start_time": "2023-08-15T19:15:42.479Z"
   },
   {
    "duration": 61,
    "start_time": "2023-08-15T19:15:44.025Z"
   },
   {
    "duration": 23,
    "start_time": "2023-08-15T19:15:44.755Z"
   },
   {
    "duration": 9,
    "start_time": "2023-08-15T19:15:46.001Z"
   },
   {
    "duration": 5,
    "start_time": "2023-08-15T19:15:47.015Z"
   },
   {
    "duration": 11,
    "start_time": "2023-08-15T19:15:47.437Z"
   },
   {
    "duration": 5,
    "start_time": "2023-08-15T19:15:48.795Z"
   },
   {
    "duration": 13,
    "start_time": "2023-08-15T19:15:49.717Z"
   },
   {
    "duration": 5,
    "start_time": "2023-08-15T19:16:02.420Z"
   },
   {
    "duration": 8,
    "start_time": "2023-08-15T19:16:16.370Z"
   },
   {
    "duration": 6,
    "start_time": "2023-08-15T19:16:50.720Z"
   },
   {
    "duration": 4,
    "start_time": "2023-08-15T19:17:51.360Z"
   },
   {
    "duration": 6,
    "start_time": "2023-08-15T19:18:17.397Z"
   },
   {
    "duration": 10,
    "start_time": "2023-08-15T19:18:22.022Z"
   },
   {
    "duration": 1653,
    "start_time": "2023-08-16T14:36:02.703Z"
   },
   {
    "duration": 169,
    "start_time": "2023-08-16T14:36:04.359Z"
   },
   {
    "duration": 17,
    "start_time": "2023-08-16T14:36:06.354Z"
   },
   {
    "duration": 1587,
    "start_time": "2023-08-16T14:36:23.699Z"
   },
   {
    "duration": 15,
    "start_time": "2023-08-16T14:36:27.043Z"
   },
   {
    "duration": 41,
    "start_time": "2023-08-16T14:36:34.453Z"
   },
   {
    "duration": 19,
    "start_time": "2023-08-16T14:36:45.789Z"
   },
   {
    "duration": 9,
    "start_time": "2023-08-16T14:36:48.836Z"
   },
   {
    "duration": 7,
    "start_time": "2023-08-16T14:47:15.846Z"
   },
   {
    "duration": 11,
    "start_time": "2023-08-16T14:47:21.158Z"
   },
   {
    "duration": 6,
    "start_time": "2023-08-16T14:51:30.880Z"
   },
   {
    "duration": 4,
    "start_time": "2023-08-16T14:51:46.442Z"
   },
   {
    "duration": 4,
    "start_time": "2023-08-16T14:51:48.256Z"
   },
   {
    "duration": 12,
    "start_time": "2023-08-16T14:52:55.202Z"
   },
   {
    "duration": 6,
    "start_time": "2023-08-16T14:54:12.006Z"
   },
   {
    "duration": 5,
    "start_time": "2023-08-16T14:54:53.185Z"
   },
   {
    "duration": 11,
    "start_time": "2023-08-16T14:58:52.706Z"
   },
   {
    "duration": 9,
    "start_time": "2023-08-16T14:59:47.741Z"
   },
   {
    "duration": 4,
    "start_time": "2023-08-16T14:59:58.027Z"
   },
   {
    "duration": 38,
    "start_time": "2023-08-16T14:59:58.481Z"
   },
   {
    "duration": 13,
    "start_time": "2023-08-16T14:59:59.006Z"
   },
   {
    "duration": 12,
    "start_time": "2023-08-16T14:59:59.991Z"
   },
   {
    "duration": 8,
    "start_time": "2023-08-16T15:00:01.907Z"
   },
   {
    "duration": 6,
    "start_time": "2023-08-16T15:00:53.136Z"
   },
   {
    "duration": 11,
    "start_time": "2023-08-16T15:01:06.225Z"
   },
   {
    "duration": 4,
    "start_time": "2023-08-16T15:02:07.290Z"
   },
   {
    "duration": 4,
    "start_time": "2023-08-16T15:02:30.140Z"
   },
   {
    "duration": 11,
    "start_time": "2023-08-16T15:03:11.822Z"
   },
   {
    "duration": 4,
    "start_time": "2023-08-16T15:03:51.612Z"
   },
   {
    "duration": 15,
    "start_time": "2023-08-16T15:05:10.355Z"
   },
   {
    "duration": 7,
    "start_time": "2023-08-16T15:07:43.335Z"
   },
   {
    "duration": 5,
    "start_time": "2023-08-16T15:07:48.855Z"
   },
   {
    "duration": 5,
    "start_time": "2023-08-16T15:10:42.316Z"
   },
   {
    "duration": 1239,
    "start_time": "2023-08-16T15:10:55.632Z"
   },
   {
    "duration": 6,
    "start_time": "2023-08-16T15:12:11.790Z"
   },
   {
    "duration": 6,
    "start_time": "2023-08-16T15:12:59.824Z"
   },
   {
    "duration": 35,
    "start_time": "2023-08-16T15:14:09.645Z"
   },
   {
    "duration": 9,
    "start_time": "2023-08-16T15:16:43.926Z"
   },
   {
    "duration": 173,
    "start_time": "2023-08-16T15:18:12.187Z"
   },
   {
    "duration": 135,
    "start_time": "2023-08-16T15:18:22.170Z"
   },
   {
    "duration": 106,
    "start_time": "2023-08-16T15:18:26.730Z"
   },
   {
    "duration": 118,
    "start_time": "2023-08-16T15:18:59.376Z"
   },
   {
    "duration": 10,
    "start_time": "2023-08-16T15:21:50.949Z"
   },
   {
    "duration": 205,
    "start_time": "2023-08-16T15:22:15.091Z"
   },
   {
    "duration": 101,
    "start_time": "2023-08-16T15:27:14.091Z"
   },
   {
    "duration": 112,
    "start_time": "2023-08-16T15:30:19.514Z"
   },
   {
    "duration": 124,
    "start_time": "2023-08-16T15:31:31.601Z"
   },
   {
    "duration": 104,
    "start_time": "2023-08-16T15:31:39.626Z"
   },
   {
    "duration": 109,
    "start_time": "2023-08-16T15:32:05.140Z"
   },
   {
    "duration": 115,
    "start_time": "2023-08-16T15:34:01.759Z"
   },
   {
    "duration": 104,
    "start_time": "2023-08-16T15:34:28.315Z"
   },
   {
    "duration": 102,
    "start_time": "2023-08-16T15:34:45.705Z"
   },
   {
    "duration": 114,
    "start_time": "2023-08-16T15:34:57.629Z"
   },
   {
    "duration": 5,
    "start_time": "2023-08-16T15:35:18.019Z"
   },
   {
    "duration": 99,
    "start_time": "2023-08-16T15:35:43.502Z"
   },
   {
    "duration": 124,
    "start_time": "2023-08-16T15:37:40.301Z"
   },
   {
    "duration": 93,
    "start_time": "2023-08-16T15:38:30.517Z"
   },
   {
    "duration": 99,
    "start_time": "2023-08-16T15:39:40.564Z"
   },
   {
    "duration": 95,
    "start_time": "2023-08-16T15:40:25.343Z"
   },
   {
    "duration": 120,
    "start_time": "2023-08-16T15:42:15.075Z"
   },
   {
    "duration": 112,
    "start_time": "2023-08-16T15:42:26.009Z"
   },
   {
    "duration": 4,
    "start_time": "2023-08-16T15:45:53.152Z"
   },
   {
    "duration": 41,
    "start_time": "2023-08-16T15:45:53.482Z"
   },
   {
    "duration": 17,
    "start_time": "2023-08-16T15:45:53.857Z"
   },
   {
    "duration": 12,
    "start_time": "2023-08-16T15:45:54.508Z"
   },
   {
    "duration": 7,
    "start_time": "2023-08-16T15:45:55.223Z"
   },
   {
    "duration": 6,
    "start_time": "2023-08-16T15:45:56.058Z"
   },
   {
    "duration": 12,
    "start_time": "2023-08-16T15:45:56.456Z"
   },
   {
    "duration": 4,
    "start_time": "2023-08-16T15:45:57.473Z"
   },
   {
    "duration": 6,
    "start_time": "2023-08-16T15:45:57.848Z"
   },
   {
    "duration": 11,
    "start_time": "2023-08-16T15:45:58.646Z"
   },
   {
    "duration": 6,
    "start_time": "2023-08-16T15:45:59.388Z"
   },
   {
    "duration": 1582,
    "start_time": "2023-08-16T15:46:00.194Z"
   },
   {
    "duration": 39,
    "start_time": "2023-08-16T15:46:01.778Z"
   },
   {
    "duration": 106,
    "start_time": "2023-08-16T15:46:01.997Z"
   },
   {
    "duration": 5,
    "start_time": "2023-08-16T15:46:02.432Z"
   },
   {
    "duration": 90,
    "start_time": "2023-08-16T15:46:02.952Z"
   },
   {
    "duration": 115,
    "start_time": "2023-08-16T15:46:03.817Z"
   },
   {
    "duration": 105,
    "start_time": "2023-08-16T15:46:04.632Z"
   },
   {
    "duration": 9,
    "start_time": "2023-08-16T15:46:06.199Z"
   },
   {
    "duration": 107,
    "start_time": "2023-08-16T15:46:07.043Z"
   },
   {
    "duration": 130,
    "start_time": "2023-08-16T15:46:08.338Z"
   },
   {
    "duration": 19,
    "start_time": "2023-08-16T15:46:10.492Z"
   },
   {
    "duration": 4,
    "start_time": "2023-08-16T15:47:17.546Z"
   },
   {
    "duration": 11,
    "start_time": "2023-08-16T15:47:19.814Z"
   },
   {
    "duration": 11,
    "start_time": "2023-08-16T15:47:49.493Z"
   },
   {
    "duration": 86,
    "start_time": "2023-08-16T15:48:42.706Z"
   },
   {
    "duration": 96,
    "start_time": "2023-08-16T15:48:43.225Z"
   },
   {
    "duration": 109,
    "start_time": "2023-08-16T15:48:43.963Z"
   },
   {
    "duration": 9,
    "start_time": "2023-08-16T15:48:45.340Z"
   },
   {
    "duration": 106,
    "start_time": "2023-08-16T15:48:45.910Z"
   },
   {
    "duration": 9,
    "start_time": "2023-08-16T15:51:03.597Z"
   },
   {
    "duration": 11,
    "start_time": "2023-08-16T15:51:06.230Z"
   },
   {
    "duration": 14,
    "start_time": "2023-08-16T15:51:12.526Z"
   },
   {
    "duration": 11,
    "start_time": "2023-08-16T15:51:36.210Z"
   },
   {
    "duration": 106,
    "start_time": "2023-08-16T15:54:06.567Z"
   },
   {
    "duration": 12,
    "start_time": "2023-08-16T15:54:06.932Z"
   },
   {
    "duration": 4,
    "start_time": "2023-08-16T15:54:15.412Z"
   },
   {
    "duration": 40,
    "start_time": "2023-08-16T15:54:15.712Z"
   },
   {
    "duration": 12,
    "start_time": "2023-08-16T15:54:15.987Z"
   },
   {
    "duration": 11,
    "start_time": "2023-08-16T15:54:16.557Z"
   },
   {
    "duration": 8,
    "start_time": "2023-08-16T15:54:17.046Z"
   },
   {
    "duration": 7,
    "start_time": "2023-08-16T15:54:17.542Z"
   },
   {
    "duration": 12,
    "start_time": "2023-08-16T15:54:17.782Z"
   },
   {
    "duration": 3,
    "start_time": "2023-08-16T15:54:18.852Z"
   },
   {
    "duration": 3,
    "start_time": "2023-08-16T15:54:19.123Z"
   },
   {
    "duration": 10,
    "start_time": "2023-08-16T15:54:19.672Z"
   },
   {
    "duration": 6,
    "start_time": "2023-08-16T15:54:20.196Z"
   },
   {
    "duration": 1456,
    "start_time": "2023-08-16T15:54:20.761Z"
   },
   {
    "duration": 40,
    "start_time": "2023-08-16T15:54:22.219Z"
   },
   {
    "duration": 131,
    "start_time": "2023-08-16T15:54:22.260Z"
   },
   {
    "duration": 6,
    "start_time": "2023-08-16T15:54:22.394Z"
   },
   {
    "duration": 13,
    "start_time": "2023-08-16T15:54:22.401Z"
   },
   {
    "duration": 99,
    "start_time": "2023-08-16T15:54:22.887Z"
   },
   {
    "duration": 97,
    "start_time": "2023-08-16T15:54:23.493Z"
   },
   {
    "duration": 121,
    "start_time": "2023-08-16T15:54:24.018Z"
   },
   {
    "duration": 8,
    "start_time": "2023-08-16T15:54:25.178Z"
   },
   {
    "duration": 128,
    "start_time": "2023-08-16T15:54:26.012Z"
   },
   {
    "duration": 105,
    "start_time": "2023-08-16T15:54:27.132Z"
   },
   {
    "duration": 19,
    "start_time": "2023-08-16T15:54:28.087Z"
   },
   {
    "duration": 4,
    "start_time": "2023-08-16T15:54:28.967Z"
   },
   {
    "duration": 10,
    "start_time": "2023-08-16T15:54:29.277Z"
   },
   {
    "duration": 9,
    "start_time": "2023-08-16T15:54:29.917Z"
   },
   {
    "duration": 12,
    "start_time": "2023-08-16T15:54:30.237Z"
   },
   {
    "duration": 5,
    "start_time": "2023-08-16T16:15:42.396Z"
   },
   {
    "duration": 4,
    "start_time": "2023-08-16T16:16:08.919Z"
   },
   {
    "duration": 5,
    "start_time": "2023-08-16T16:16:13.129Z"
   },
   {
    "duration": 4,
    "start_time": "2023-08-16T16:16:16.384Z"
   },
   {
    "duration": 7,
    "start_time": "2023-08-16T16:16:26.045Z"
   },
   {
    "duration": 5,
    "start_time": "2023-08-16T16:16:30.230Z"
   },
   {
    "duration": 5,
    "start_time": "2023-08-16T16:16:41.083Z"
   },
   {
    "duration": 17,
    "start_time": "2023-08-16T16:25:39.244Z"
   },
   {
    "duration": 6,
    "start_time": "2023-08-16T16:31:50.213Z"
   },
   {
    "duration": 418,
    "start_time": "2023-08-16T16:34:22.254Z"
   },
   {
    "duration": 106874,
    "start_time": "2023-08-16T16:35:30.594Z"
   },
   {
    "duration": 34,
    "start_time": "2023-08-16T16:37:41.447Z"
   },
   {
    "duration": 1581,
    "start_time": "2023-08-17T17:32:12.644Z"
   },
   {
    "duration": 90,
    "start_time": "2023-08-17T17:32:14.227Z"
   },
   {
    "duration": 19,
    "start_time": "2023-08-17T17:32:14.318Z"
   },
   {
    "duration": 20,
    "start_time": "2023-08-17T17:32:14.339Z"
   },
   {
    "duration": 11,
    "start_time": "2023-08-17T17:32:14.568Z"
   },
   {
    "duration": 7,
    "start_time": "2023-08-17T17:32:15.546Z"
   },
   {
    "duration": 14,
    "start_time": "2023-08-17T17:32:15.992Z"
   },
   {
    "duration": 7,
    "start_time": "2023-08-17T17:32:17.206Z"
   },
   {
    "duration": 4,
    "start_time": "2023-08-17T17:32:17.602Z"
   },
   {
    "duration": 14,
    "start_time": "2023-08-17T17:32:18.336Z"
   },
   {
    "duration": 6,
    "start_time": "2023-08-17T17:32:19.113Z"
   },
   {
    "duration": 1624,
    "start_time": "2023-08-17T17:32:20.138Z"
   },
   {
    "duration": 54,
    "start_time": "2023-08-17T17:32:21.764Z"
   },
   {
    "duration": 132,
    "start_time": "2023-08-17T17:32:21.820Z"
   },
   {
    "duration": 5,
    "start_time": "2023-08-17T17:32:22.131Z"
   },
   {
    "duration": 13,
    "start_time": "2023-08-17T17:32:22.641Z"
   },
   {
    "duration": 116,
    "start_time": "2023-08-17T17:32:23.401Z"
   },
   {
    "duration": 106,
    "start_time": "2023-08-17T17:32:24.191Z"
   },
   {
    "duration": 113,
    "start_time": "2023-08-17T17:32:25.011Z"
   },
   {
    "duration": 8,
    "start_time": "2023-08-17T17:32:26.291Z"
   },
   {
    "duration": 112,
    "start_time": "2023-08-17T17:32:26.771Z"
   },
   {
    "duration": 113,
    "start_time": "2023-08-17T17:32:27.781Z"
   },
   {
    "duration": 26,
    "start_time": "2023-08-17T17:32:29.243Z"
   },
   {
    "duration": 4,
    "start_time": "2023-08-17T17:32:31.249Z"
   },
   {
    "duration": 12,
    "start_time": "2023-08-17T17:32:31.761Z"
   },
   {
    "duration": 9,
    "start_time": "2023-08-17T17:32:33.365Z"
   },
   {
    "duration": 15,
    "start_time": "2023-08-17T17:32:33.960Z"
   },
   {
    "duration": 5,
    "start_time": "2023-08-17T17:32:36.456Z"
   },
   {
    "duration": 5,
    "start_time": "2023-08-17T17:32:36.906Z"
   },
   {
    "duration": 5,
    "start_time": "2023-08-17T17:32:37.416Z"
   },
   {
    "duration": 9,
    "start_time": "2023-08-17T17:32:37.910Z"
   },
   {
    "duration": 4,
    "start_time": "2023-08-17T17:32:38.559Z"
   },
   {
    "duration": 18,
    "start_time": "2023-08-17T17:32:41.066Z"
   },
   {
    "duration": 6,
    "start_time": "2023-08-17T17:32:42.080Z"
   },
   {
    "duration": 421,
    "start_time": "2023-08-17T17:32:45.199Z"
   },
   {
    "duration": 111616,
    "start_time": "2023-08-17T17:32:50.082Z"
   },
   {
    "duration": 513,
    "start_time": "2023-08-17T17:36:17.443Z"
   },
   {
    "duration": 8,
    "start_time": "2023-08-17T17:55:31.730Z"
   },
   {
    "duration": 10,
    "start_time": "2023-08-17T17:56:30.125Z"
   },
   {
    "duration": 8,
    "start_time": "2023-08-17T17:57:02.949Z"
   },
   {
    "duration": 7,
    "start_time": "2023-08-17T17:57:03.566Z"
   },
   {
    "duration": 2,
    "start_time": "2023-08-17T18:00:09.483Z"
   },
   {
    "duration": 1174,
    "start_time": "2023-08-17T18:00:40.744Z"
   },
   {
    "duration": 116296,
    "start_time": "2023-08-17T18:05:39.900Z"
   },
   {
    "duration": 159,
    "start_time": "2023-08-17T18:07:36.198Z"
   },
   {
    "duration": 210,
    "start_time": "2023-08-17T18:08:45.654Z"
   },
   {
    "duration": 51915,
    "start_time": "2023-08-17T18:09:08.818Z"
   },
   {
    "duration": 33,
    "start_time": "2023-08-17T18:10:08.720Z"
   },
   {
    "duration": 336,
    "start_time": "2023-08-17T18:27:37.796Z"
   },
   {
    "duration": 324,
    "start_time": "2023-08-17T18:30:31.875Z"
   },
   {
    "duration": 24,
    "start_time": "2023-08-17T18:31:05.020Z"
   },
   {
    "duration": 127,
    "start_time": "2023-08-17T18:31:08.135Z"
   },
   {
    "duration": 27,
    "start_time": "2023-08-17T18:32:31.663Z"
   },
   {
    "duration": 117,
    "start_time": "2023-08-17T18:36:49.418Z"
   },
   {
    "duration": 2118,
    "start_time": "2023-08-18T07:36:29.951Z"
   },
   {
    "duration": 100,
    "start_time": "2023-08-18T07:36:32.072Z"
   },
   {
    "duration": 15,
    "start_time": "2023-08-18T07:36:32.174Z"
   },
   {
    "duration": 45,
    "start_time": "2023-08-18T07:36:32.191Z"
   },
   {
    "duration": 28,
    "start_time": "2023-08-18T07:36:32.238Z"
   },
   {
    "duration": 28,
    "start_time": "2023-08-18T07:36:32.268Z"
   },
   {
    "duration": 30,
    "start_time": "2023-08-18T07:36:32.298Z"
   },
   {
    "duration": 22,
    "start_time": "2023-08-18T07:36:32.330Z"
   },
   {
    "duration": 30,
    "start_time": "2023-08-18T07:36:32.353Z"
   },
   {
    "duration": 39,
    "start_time": "2023-08-18T07:36:32.384Z"
   },
   {
    "duration": 17,
    "start_time": "2023-08-18T07:36:32.425Z"
   },
   {
    "duration": 1338,
    "start_time": "2023-08-18T07:36:32.444Z"
   },
   {
    "duration": 35,
    "start_time": "2023-08-18T07:36:33.784Z"
   },
   {
    "duration": 115,
    "start_time": "2023-08-18T07:36:33.823Z"
   },
   {
    "duration": 12,
    "start_time": "2023-08-18T07:36:33.940Z"
   },
   {
    "duration": 46,
    "start_time": "2023-08-18T07:36:33.953Z"
   },
   {
    "duration": 102,
    "start_time": "2023-08-18T07:36:34.001Z"
   },
   {
    "duration": 100,
    "start_time": "2023-08-18T07:36:34.105Z"
   },
   {
    "duration": 115,
    "start_time": "2023-08-18T07:36:34.207Z"
   },
   {
    "duration": 9,
    "start_time": "2023-08-18T07:36:34.325Z"
   },
   {
    "duration": 123,
    "start_time": "2023-08-18T07:36:34.335Z"
   },
   {
    "duration": 107,
    "start_time": "2023-08-18T07:36:34.460Z"
   },
   {
    "duration": 16,
    "start_time": "2023-08-18T07:36:34.568Z"
   },
   {
    "duration": 118,
    "start_time": "2023-08-18T07:36:34.586Z"
   },
   {
    "duration": 22,
    "start_time": "2023-08-18T07:36:34.705Z"
   },
   {
    "duration": 32,
    "start_time": "2023-08-18T07:36:34.728Z"
   },
   {
    "duration": 11,
    "start_time": "2023-08-18T07:36:34.762Z"
   },
   {
    "duration": 13,
    "start_time": "2023-08-18T07:36:34.774Z"
   },
   {
    "duration": 16,
    "start_time": "2023-08-18T07:36:34.788Z"
   },
   {
    "duration": 9,
    "start_time": "2023-08-18T07:36:34.805Z"
   },
   {
    "duration": 13,
    "start_time": "2023-08-18T07:36:34.815Z"
   },
   {
    "duration": 26,
    "start_time": "2023-08-18T07:36:34.830Z"
   },
   {
    "duration": 30,
    "start_time": "2023-08-18T07:36:34.857Z"
   },
   {
    "duration": 5,
    "start_time": "2023-08-18T07:36:34.888Z"
   },
   {
    "duration": 397,
    "start_time": "2023-08-18T07:36:34.895Z"
   },
   {
    "duration": 178663,
    "start_time": "2023-08-18T07:36:35.293Z"
   },
   {
    "duration": 193,
    "start_time": "2023-08-18T07:39:33.958Z"
   },
   {
    "duration": 97,
    "start_time": "2023-08-18T07:39:34.153Z"
   },
   {
    "duration": 8,
    "start_time": "2023-08-18T07:39:34.252Z"
   },
   {
    "duration": 7,
    "start_time": "2023-08-18T07:39:34.261Z"
   },
   {
    "duration": 1100,
    "start_time": "2023-08-18T07:39:34.272Z"
   },
   {
    "duration": 102235,
    "start_time": "2023-08-18T07:39:35.374Z"
   },
   {
    "duration": 140,
    "start_time": "2023-08-18T07:41:17.611Z"
   },
   {
    "duration": 288,
    "start_time": "2023-08-18T07:41:17.754Z"
   },
   {
    "duration": 45119,
    "start_time": "2023-08-18T07:41:18.043Z"
   },
   {
    "duration": 93,
    "start_time": "2023-08-18T07:42:03.164Z"
   },
   {
    "duration": 473,
    "start_time": "2023-08-18T07:42:03.261Z"
   },
   {
    "duration": 23,
    "start_time": "2023-08-18T07:42:03.736Z"
   },
   {
    "duration": 108,
    "start_time": "2023-08-18T07:42:03.761Z"
   },
   {
    "duration": 1536,
    "start_time": "2023-08-20T12:27:29.390Z"
   },
   {
    "duration": 77,
    "start_time": "2023-08-20T12:28:38.124Z"
   },
   {
    "duration": 80,
    "start_time": "2023-08-20T12:29:45.859Z"
   },
   {
    "duration": 17,
    "start_time": "2023-08-20T12:29:46.619Z"
   },
   {
    "duration": 14,
    "start_time": "2023-08-20T12:29:47.849Z"
   },
   {
    "duration": 8,
    "start_time": "2023-08-20T12:29:48.849Z"
   },
   {
    "duration": 9,
    "start_time": "2023-08-20T12:29:52.436Z"
   },
   {
    "duration": 12,
    "start_time": "2023-08-20T12:29:53.865Z"
   },
   {
    "duration": 5,
    "start_time": "2023-08-20T12:29:58.080Z"
   },
   {
    "duration": 3,
    "start_time": "2023-08-20T12:29:58.526Z"
   },
   {
    "duration": 14,
    "start_time": "2023-08-20T12:29:59.433Z"
   },
   {
    "duration": 6,
    "start_time": "2023-08-20T12:30:00.450Z"
   },
   {
    "duration": 1342,
    "start_time": "2023-08-20T12:30:02.955Z"
   },
   {
    "duration": 36,
    "start_time": "2023-08-20T12:30:05.593Z"
   },
   {
    "duration": 118,
    "start_time": "2023-08-20T12:30:26.509Z"
   },
   {
    "duration": 6,
    "start_time": "2023-08-20T12:30:27.436Z"
   },
   {
    "duration": 12,
    "start_time": "2023-08-20T12:30:28.065Z"
   },
   {
    "duration": 87,
    "start_time": "2023-08-20T12:30:29.205Z"
   },
   {
    "duration": 99,
    "start_time": "2023-08-20T12:30:30.179Z"
   },
   {
    "duration": 108,
    "start_time": "2023-08-20T12:30:31.256Z"
   },
   {
    "duration": 10,
    "start_time": "2023-08-20T12:30:32.831Z"
   },
   {
    "duration": 130,
    "start_time": "2023-08-20T12:30:33.340Z"
   },
   {
    "duration": 107,
    "start_time": "2023-08-20T12:30:34.371Z"
   },
   {
    "duration": 17,
    "start_time": "2023-08-20T12:30:36.155Z"
   },
   {
    "duration": 4,
    "start_time": "2023-08-20T12:30:41.949Z"
   },
   {
    "duration": 12,
    "start_time": "2023-08-20T12:30:42.939Z"
   },
   {
    "duration": 9,
    "start_time": "2023-08-20T12:30:47.366Z"
   },
   {
    "duration": 7983,
    "start_time": "2023-08-20T12:41:07.465Z"
   },
   {
    "duration": 2131,
    "start_time": "2023-08-20T12:41:59.641Z"
   },
   {
    "duration": 1217,
    "start_time": "2023-08-20T12:42:01.775Z"
   },
   {
    "duration": 50,
    "start_time": "2023-08-20T12:42:02.994Z"
   },
   {
    "duration": 17,
    "start_time": "2023-08-20T12:42:03.047Z"
   },
   {
    "duration": 15,
    "start_time": "2023-08-20T12:42:03.065Z"
   },
   {
    "duration": 13,
    "start_time": "2023-08-20T12:42:03.081Z"
   },
   {
    "duration": 6,
    "start_time": "2023-08-20T12:42:03.096Z"
   },
   {
    "duration": 45,
    "start_time": "2023-08-20T12:42:03.103Z"
   },
   {
    "duration": 4,
    "start_time": "2023-08-20T12:42:03.151Z"
   },
   {
    "duration": 32,
    "start_time": "2023-08-20T12:42:03.157Z"
   },
   {
    "duration": 13,
    "start_time": "2023-08-20T12:42:03.191Z"
   },
   {
    "duration": 13,
    "start_time": "2023-08-20T12:42:03.206Z"
   },
   {
    "duration": 1384,
    "start_time": "2023-08-20T12:42:03.221Z"
   },
   {
    "duration": 151,
    "start_time": "2023-08-20T12:42:04.607Z"
   },
   {
    "duration": 146,
    "start_time": "2023-08-20T12:42:04.759Z"
   },
   {
    "duration": 6,
    "start_time": "2023-08-20T12:42:04.907Z"
   },
   {
    "duration": 39,
    "start_time": "2023-08-20T12:42:04.916Z"
   },
   {
    "duration": 117,
    "start_time": "2023-08-20T12:42:04.957Z"
   },
   {
    "duration": 202,
    "start_time": "2023-08-20T12:42:05.075Z"
   },
   {
    "duration": 129,
    "start_time": "2023-08-20T12:42:05.279Z"
   },
   {
    "duration": 9,
    "start_time": "2023-08-20T12:42:05.409Z"
   },
   {
    "duration": 133,
    "start_time": "2023-08-20T12:42:05.419Z"
   },
   {
    "duration": 130,
    "start_time": "2023-08-20T12:42:05.554Z"
   },
   {
    "duration": 16,
    "start_time": "2023-08-20T12:42:05.685Z"
   },
   {
    "duration": 3,
    "start_time": "2023-08-20T12:42:05.703Z"
   },
   {
    "duration": 64,
    "start_time": "2023-08-20T12:42:05.708Z"
   },
   {
    "duration": 25,
    "start_time": "2023-08-20T12:42:05.774Z"
   },
   {
    "duration": 34,
    "start_time": "2023-08-20T12:42:05.803Z"
   },
   {
    "duration": 20,
    "start_time": "2023-08-20T12:42:05.838Z"
   },
   {
    "duration": 18,
    "start_time": "2023-08-20T12:42:05.860Z"
   },
   {
    "duration": 5,
    "start_time": "2023-08-20T12:42:05.880Z"
   },
   {
    "duration": 27,
    "start_time": "2023-08-20T12:42:05.887Z"
   },
   {
    "duration": 25,
    "start_time": "2023-08-20T12:42:05.916Z"
   },
   {
    "duration": 21,
    "start_time": "2023-08-20T12:42:05.943Z"
   },
   {
    "duration": 5,
    "start_time": "2023-08-20T12:42:05.965Z"
   },
   {
    "duration": 413,
    "start_time": "2023-08-20T12:42:05.972Z"
   },
   {
    "duration": 115420,
    "start_time": "2023-08-20T12:42:06.387Z"
   },
   {
    "duration": 247,
    "start_time": "2023-08-20T12:44:01.809Z"
   },
   {
    "duration": 80,
    "start_time": "2023-08-20T12:44:02.058Z"
   },
   {
    "duration": 282,
    "start_time": "2023-08-20T12:44:02.141Z"
   },
   {
    "duration": 226,
    "start_time": "2023-08-20T12:44:02.425Z"
   },
   {
    "duration": 1286,
    "start_time": "2023-08-20T12:44:02.653Z"
   },
   {
    "duration": 112508,
    "start_time": "2023-08-20T12:44:03.944Z"
   },
   {
    "duration": 111,
    "start_time": "2023-08-20T12:45:56.454Z"
   },
   {
    "duration": 295,
    "start_time": "2023-08-20T12:45:56.633Z"
   },
   {
    "duration": 49579,
    "start_time": "2023-08-20T12:45:56.930Z"
   },
   {
    "duration": 132,
    "start_time": "2023-08-20T12:46:46.510Z"
   },
   {
    "duration": 459,
    "start_time": "2023-08-20T12:46:46.644Z"
   },
   {
    "duration": 22,
    "start_time": "2023-08-20T12:46:47.104Z"
   },
   {
    "duration": 120,
    "start_time": "2023-08-20T12:46:47.139Z"
   },
   {
    "duration": 4,
    "start_time": "2023-08-20T14:21:11.475Z"
   },
   {
    "duration": 3,
    "start_time": "2023-08-20T14:59:06.883Z"
   },
   {
    "duration": 114,
    "start_time": "2023-08-20T14:59:19.632Z"
   },
   {
    "duration": 76,
    "start_time": "2023-08-20T15:02:51.557Z"
   }
  ],
  "kernelspec": {
   "display_name": "Python 3",
   "language": "python",
   "name": "python3"
  },
  "language_info": {
   "codemirror_mode": {
    "name": "ipython",
    "version": 3
   },
   "file_extension": ".py",
   "mimetype": "text/x-python",
   "name": "python",
   "nbconvert_exporter": "python",
   "pygments_lexer": "ipython3",
   "version": "3.8.8"
  },
  "toc": {
   "base_numbering": 1,
   "nav_menu": {},
   "number_sections": true,
   "sideBar": true,
   "skip_h1_title": true,
   "title_cell": "Содержание",
   "title_sidebar": "Contents",
   "toc_cell": true,
   "toc_position": {
    "height": "calc(100% - 180px)",
    "left": "10px",
    "top": "150px",
    "width": "306px"
   },
   "toc_section_display": true,
   "toc_window_display": false
  }
 },
 "nbformat": 4,
 "nbformat_minor": 2
}
